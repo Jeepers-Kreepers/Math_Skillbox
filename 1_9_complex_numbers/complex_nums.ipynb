{
 "cells": [
  {
   "metadata": {},
   "cell_type": "markdown",
   "source": [
    "Работа с комплексными числами.\n",
    "* Операции над комплексными числами"
   ],
   "id": "8fc68f6e7cdfc894"
  },
  {
   "metadata": {
    "ExecuteTime": {
     "end_time": "2025-02-17T17:08:24.152149Z",
     "start_time": "2025-02-17T17:08:24.149237Z"
    }
   },
   "cell_type": "code",
   "source": "import sympy as sp",
   "id": "17cf90ab22bf84fb",
   "outputs": [],
   "execution_count": 120
  },
  {
   "metadata": {
    "ExecuteTime": {
     "end_time": "2025-02-17T17:08:24.168982Z",
     "start_time": "2025-02-17T17:08:24.166289Z"
    }
   },
   "cell_type": "code",
   "source": "z = (2 + sp.I)  # Комплексное число. 2 + i. I - квадратный корень из -1",
   "id": "1ced296fd0c1dc6a",
   "outputs": [],
   "execution_count": 121
  },
  {
   "metadata": {
    "ExecuteTime": {
     "end_time": "2025-02-17T17:08:24.217554Z",
     "start_time": "2025-02-17T17:08:24.212049Z"
    }
   },
   "cell_type": "code",
   "source": "z",
   "id": "9e354b3bd06d0a71",
   "outputs": [
    {
     "data": {
      "text/plain": [
       "2 + I"
      ],
      "text/latex": "$\\displaystyle 2 + i$"
     },
     "execution_count": 122,
     "metadata": {},
     "output_type": "execute_result"
    }
   ],
   "execution_count": 122
  },
  {
   "metadata": {
    "ExecuteTime": {
     "end_time": "2025-02-17T17:08:24.269450Z",
     "start_time": "2025-02-17T17:08:24.264657Z"
    }
   },
   "cell_type": "code",
   "source": [
    "a = z / sp.sqrt(2)  # деление комплексных чисел на корень из 2\n",
    "a"
   ],
   "id": "fce56b1b4d91dfd7",
   "outputs": [
    {
     "data": {
      "text/plain": [
       "sqrt(2)*(2 + I)/2"
      ],
      "text/latex": "$\\displaystyle \\frac{\\sqrt{2} \\left(2 + i\\right)}{2}$"
     },
     "execution_count": 123,
     "metadata": {},
     "output_type": "execute_result"
    }
   ],
   "execution_count": 123
  },
  {
   "metadata": {
    "ExecuteTime": {
     "end_time": "2025-02-17T17:08:24.327663Z",
     "start_time": "2025-02-17T17:08:24.323238Z"
    }
   },
   "cell_type": "code",
   "source": [
    "q = z ** 2  # возведение комплексных чисел в степень\n",
    "q"
   ],
   "id": "12602b88e2e1e4fc",
   "outputs": [
    {
     "data": {
      "text/plain": [
       "(2 + I)**2"
      ],
      "text/latex": "$\\displaystyle \\left(2 + i\\right)^{2}$"
     },
     "execution_count": 124,
     "metadata": {},
     "output_type": "execute_result"
    }
   ],
   "execution_count": 124
  },
  {
   "metadata": {
    "ExecuteTime": {
     "end_time": "2025-02-17T17:08:24.376744Z",
     "start_time": "2025-02-17T17:08:24.372226Z"
    }
   },
   "cell_type": "code",
   "source": [
    "r = sp.sqrt(sp.re(z) ** 2 + sp.im(z) ** 2)\n",
    "r"
   ],
   "id": "c099f761109af1a6",
   "outputs": [
    {
     "data": {
      "text/plain": [
       "sqrt(5)"
      ],
      "text/latex": "$\\displaystyle \\sqrt{5}$"
     },
     "execution_count": 125,
     "metadata": {},
     "output_type": "execute_result"
    }
   ],
   "execution_count": 125
  },
  {
   "metadata": {},
   "cell_type": "markdown",
   "source": "    Найти восемь решений уравнения z**8 = 1",
   "id": "a3ad453c5171cd6c"
  },
  {
   "metadata": {
    "ExecuteTime": {
     "end_time": "2025-02-17T17:08:24.430010Z",
     "start_time": "2025-02-17T17:08:24.422591Z"
    }
   },
   "cell_type": "code",
   "source": [
    "z = sp.symbols('z')  # Символьная переменная. \"z\" Название переменной. Можно поставить любое\n",
    "sp.solve(z ** 8 - 1, z)  # Решение уравнения z**8 = 1 (символьная переменная z)"
   ],
   "id": "df5b1107872a5194",
   "outputs": [
    {
     "data": {
      "text/plain": [
       "[-1,\n",
       " 1,\n",
       " -I,\n",
       " I,\n",
       " -sqrt(2)/2 - sqrt(2)*I/2,\n",
       " -sqrt(2)/2 + sqrt(2)*I/2,\n",
       " sqrt(2)/2 - sqrt(2)*I/2,\n",
       " sqrt(2)/2 + sqrt(2)*I/2]"
      ]
     },
     "execution_count": 126,
     "metadata": {},
     "output_type": "execute_result"
    }
   ],
   "execution_count": 126
  },
  {
   "metadata": {},
   "cell_type": "markdown",
   "source": "Комплексное сопряженное число",
   "id": "49634ab6731f2faa"
  },
  {
   "metadata": {
    "ExecuteTime": {
     "end_time": "2025-02-17T17:08:24.488826Z",
     "start_time": "2025-02-17T17:08:24.483418Z"
    }
   },
   "cell_type": "code",
   "source": [
    "z = -1 + 0.5 * sp.I\n",
    "z"
   ],
   "id": "e44aa71952c75817",
   "outputs": [
    {
     "data": {
      "text/plain": [
       "-1 + 0.5*I"
      ],
      "text/latex": "$\\displaystyle -1 + 0.5 i$"
     },
     "execution_count": 127,
     "metadata": {},
     "output_type": "execute_result"
    }
   ],
   "execution_count": 127
  },
  {
   "metadata": {
    "ExecuteTime": {
     "end_time": "2025-02-17T17:08:24.559672Z",
     "start_time": "2025-02-17T17:08:24.553865Z"
    }
   },
   "cell_type": "code",
   "source": "z.conjugate()",
   "id": "a5de61b87fdf4f2b",
   "outputs": [
    {
     "data": {
      "text/plain": [
       "-1 - 0.5*I"
      ],
      "text/latex": "$\\displaystyle -1 - 0.5 i$"
     },
     "execution_count": 128,
     "metadata": {},
     "output_type": "execute_result"
    }
   ],
   "execution_count": 128
  },
  {
   "metadata": {
    "ExecuteTime": {
     "end_time": "2025-02-17T17:08:24.619969Z",
     "start_time": "2025-02-17T17:08:24.614117Z"
    }
   },
   "cell_type": "code",
   "source": "z * z.conjugate()\n",
   "id": "d8e6edc2249d20d8",
   "outputs": [
    {
     "data": {
      "text/plain": [
       "(-1 - 0.5*I)*(-1 + 0.5*I)"
      ],
      "text/latex": "$\\displaystyle \\left(-1 - 0.5 i\\right) \\left(-1 + 0.5 i\\right)$"
     },
     "execution_count": 129,
     "metadata": {},
     "output_type": "execute_result"
    }
   ],
   "execution_count": 129
  },
  {
   "metadata": {
    "ExecuteTime": {
     "end_time": "2025-02-17T17:08:24.685586Z",
     "start_time": "2025-02-17T17:08:24.674688Z"
    }
   },
   "cell_type": "code",
   "source": "sp.simplify(z * z.conjugate())",
   "id": "d43e4cd1d985916b",
   "outputs": [
    {
     "data": {
      "text/plain": [
       "1.25000000000000"
      ],
      "text/latex": "$\\displaystyle 1.25$"
     },
     "execution_count": 130,
     "metadata": {},
     "output_type": "execute_result"
    }
   ],
   "execution_count": 130
  },
  {
   "metadata": {},
   "cell_type": "markdown",
   "source": "Умножение на Эрмитову матрицу",
   "id": "40f8e688321fd1ea"
  },
  {
   "metadata": {
    "ExecuteTime": {
     "end_time": "2025-02-17T17:08:24.760169Z",
     "start_time": "2025-02-17T17:08:24.755290Z"
    }
   },
   "cell_type": "code",
   "source": [
    "A = sp.Matrix([[sp.I, 1, sp.I], [1, sp.I, sp.I]])\n",
    "A"
   ],
   "id": "9f65ef3edc011b02",
   "outputs": [
    {
     "data": {
      "text/plain": [
       "Matrix([\n",
       "[I, 1, I],\n",
       "[1, I, I]])"
      ],
      "text/latex": "$\\displaystyle \\left[\\begin{matrix}i & 1 & i\\\\1 & i & i\\end{matrix}\\right]$"
     },
     "execution_count": 131,
     "metadata": {},
     "output_type": "execute_result"
    }
   ],
   "execution_count": 131
  },
  {
   "metadata": {
    "ExecuteTime": {
     "end_time": "2025-02-17T17:08:24.818231Z",
     "start_time": "2025-02-17T17:08:24.813666Z"
    }
   },
   "cell_type": "code",
   "source": "A.T",
   "id": "d1f6d2525d85aaef",
   "outputs": [
    {
     "data": {
      "text/plain": [
       "Matrix([\n",
       "[I, 1],\n",
       "[1, I],\n",
       "[I, I]])"
      ],
      "text/latex": "$\\displaystyle \\left[\\begin{matrix}i & 1\\\\1 & i\\\\i & i\\end{matrix}\\right]$"
     },
     "execution_count": 132,
     "metadata": {},
     "output_type": "execute_result"
    }
   ],
   "execution_count": 132
  },
  {
   "metadata": {
    "ExecuteTime": {
     "end_time": "2025-02-17T17:08:24.895749Z",
     "start_time": "2025-02-17T17:08:24.889061Z"
    }
   },
   "cell_type": "code",
   "source": "A.T*A",
   "id": "c99f30d8a7213",
   "outputs": [
    {
     "data": {
      "text/plain": [
       "Matrix([\n",
       "[     0,    2*I, -1 + I],\n",
       "[   2*I,      0, -1 + I],\n",
       "[-1 + I, -1 + I,     -2]])"
      ],
      "text/latex": "$\\displaystyle \\left[\\begin{matrix}0 & 2 i & -1 + i\\\\2 i & 0 & -1 + i\\\\-1 + i & -1 + i & -2\\end{matrix}\\right]$"
     },
     "execution_count": 133,
     "metadata": {},
     "output_type": "execute_result"
    }
   ],
   "execution_count": 133
  },
  {
   "metadata": {
    "ExecuteTime": {
     "end_time": "2025-02-17T17:08:24.949459Z",
     "start_time": "2025-02-17T17:08:24.943678Z"
    }
   },
   "cell_type": "code",
   "source": "A * A.T",
   "id": "a8fc62a593690fd5",
   "outputs": [
    {
     "data": {
      "text/plain": [
       "Matrix([\n",
       "[      -1, -1 + 2*I],\n",
       "[-1 + 2*I,       -1]])"
      ],
      "text/latex": "$\\displaystyle \\left[\\begin{matrix}-1 & -1 + 2 i\\\\-1 + 2 i & -1\\end{matrix}\\right]$"
     },
     "execution_count": 134,
     "metadata": {},
     "output_type": "execute_result"
    }
   ],
   "execution_count": 134
  }
 ],
 "metadata": {
  "kernelspec": {
   "display_name": "Python 3",
   "language": "python",
   "name": "python3"
  },
  "language_info": {
   "codemirror_mode": {
    "name": "ipython",
    "version": 2
   },
   "file_extension": ".py",
   "mimetype": "text/x-python",
   "name": "python",
   "nbconvert_exporter": "python",
   "pygments_lexer": "ipython2",
   "version": "2.7.6"
  }
 },
 "nbformat": 4,
 "nbformat_minor": 5
}
