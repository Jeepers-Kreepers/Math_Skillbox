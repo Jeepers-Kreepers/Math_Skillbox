{
 "cells": [
  {
   "cell_type": "code",
   "id": "initial_id",
   "metadata": {
    "collapsed": true,
    "ExecuteTime": {
     "end_time": "2025-02-17T17:52:14.414236Z",
     "start_time": "2025-02-17T17:52:14.411370Z"
    }
   },
   "source": "import sympy as sp",
   "outputs": [],
   "execution_count": 61
  },
  {
   "metadata": {
    "ExecuteTime": {
     "end_time": "2025-02-17T17:52:14.484775Z",
     "start_time": "2025-02-17T17:52:14.478301Z"
    }
   },
   "cell_type": "code",
   "source": [
    "A = sp.Matrix([[2 - 3 * sp.I, 0], [0 + 2 * sp.I, 5]])\n",
    "A"
   ],
   "id": "f2493f6135b84364",
   "outputs": [
    {
     "data": {
      "text/plain": [
       "Matrix([\n",
       "[2 - 3*I, 0],\n",
       "[    2*I, 5]])"
      ],
      "text/latex": "$\\displaystyle \\left[\\begin{matrix}2 - 3 i & 0\\\\2 i & 5\\end{matrix}\\right]$"
     },
     "execution_count": 62,
     "metadata": {},
     "output_type": "execute_result"
    }
   ],
   "execution_count": 62
  },
  {
   "metadata": {
    "ExecuteTime": {
     "end_time": "2025-02-17T17:52:14.551558Z",
     "start_time": "2025-02-17T17:52:14.545919Z"
    }
   },
   "cell_type": "code",
   "source": [
    "B = sp.Matrix([[2], [15 - 5 * sp.I]])\n",
    "B"
   ],
   "id": "29a32549198813d8",
   "outputs": [
    {
     "data": {
      "text/plain": [
       "Matrix([\n",
       "[       2],\n",
       "[15 - 5*I]])"
      ],
      "text/latex": "$\\displaystyle \\left[\\begin{matrix}2\\\\15 - 5 i\\end{matrix}\\right]$"
     },
     "execution_count": 63,
     "metadata": {},
     "output_type": "execute_result"
    }
   ],
   "execution_count": 63
  },
  {
   "metadata": {
    "ExecuteTime": {
     "end_time": "2025-02-17T17:52:14.620415Z",
     "start_time": "2025-02-17T17:52:14.614726Z"
    }
   },
   "cell_type": "code",
   "source": "A * B",
   "id": "5ea08d102d34b3e8",
   "outputs": [
    {
     "data": {
      "text/plain": [
       "Matrix([\n",
       "[  4 - 6*I],\n",
       "[75 - 21*I]])"
      ],
      "text/latex": "$\\displaystyle \\left[\\begin{matrix}4 - 6 i\\\\75 - 21 i\\end{matrix}\\right]$"
     },
     "execution_count": 64,
     "metadata": {},
     "output_type": "execute_result"
    }
   ],
   "execution_count": 64
  },
  {
   "metadata": {},
   "cell_type": "markdown",
   "source": "Найти приближенное решение системы уравнений",
   "id": "617a1056b3c9ff78"
  },
  {
   "metadata": {
    "ExecuteTime": {
     "end_time": "2025-02-17T18:00:57.309655Z",
     "start_time": "2025-02-17T18:00:57.165412Z"
    }
   },
   "cell_type": "code",
   "source": [
    "x = sp.Matrix([[2, 5, 0], [1, 3 - sp.I, 2 + sp.I]])\n",
    "z = sp.Matrix([[5, sp.I, 0], [1, 14, -2 - 3 * sp.I]])\n",
    "\n",
    "# Проверяем размеры матриц, чтобы убедиться, что умножение x * y имеет смысл.\n",
    "# x - матрица 2x3, z - матрица 2x3.\n",
    "# Для x * y = z, y должна быть матрицей 3x3.\n",
    "# Если y 3x3 - то решение возможно.\n",
    "# Если y 3xk, то решений будет k столбцов.\n",
    "\n",
    "try:\n",
    "  y_sol = x.pinv() * z # Используем псевдообратную матрицу.  Если x не квадратная и обратимая, то x.inv() выдаст ошибку.\n",
    "  print(\"Решение для y:\")\n",
    "  sp.pprint(y_sol)\n",
    "except sp.LinAlgError:\n",
    "  print(\"Невозможно найти решение: матрица x не обратима или не подходит по размеру.\")\n",
    "except ValueError as e:\n",
    "  print(f\"Ошибка: {e}\")"
   ],
   "id": "17d73e898e492f1a",
   "outputs": [
    {
     "name": "stdout",
     "output_type": "stream",
     "text": [
      "Решение для y:\n",
      "⎡                        ⎛  13   ⅈ⎞                                            ↪\n",
      "⎢                        ⎜- ── + ─⎟⋅(3 + ⅈ)                                    ↪\n",
      "⎢                    9   ⎝  5    5⎠           13⋅ⅈ                             ↪\n",
      "⎢                    ─ + ────────────────── + ────                             ↪\n",
      "⎢                    5           6             30                              ↪\n",
      "⎢                                                                              ↪\n",
      "⎢                         ⎛  13   ⅈ⎞                                           ↪\n",
      "⎢                         ⎜- ── + ─⎟⋅(3 + ⅈ)                                   ↪\n",
      "⎢                    87   ⎝  5    5⎠           47⋅ⅈ                            ↪\n",
      "⎢                    ── + ────────────────── + ────                            ↪\n",
      "⎢                    25           3             75                             ↪\n",
      "⎢                                                                              ↪\n",
      "⎢  ⎛    ⎛  13   ⅈ⎞        ⎞     ⎛2   4⋅ⅈ⎞     ⎛  1   2⋅ⅈ⎞                    ⎛ ↪\n",
      "⎢ⅈ⋅⎜7 + ⎜- ── + ─⎟⋅(3 + ⅈ)⎟   ⅈ⋅⎜─ + ───⎟   ⅈ⋅⎜- ─ - ───⎟                7⋅ⅈ⋅⎜ ↪\n",
      "⎢  ⎝    ⎝  5    5⎠        ⎠     ⎝5    5 ⎠     ⎝  5    5 ⎠   5⋅ⅈ⋅(1 + ⅈ)      ⎝ ↪\n",
      "⎢────────────────────────── - ─────────── - ───────────── + ───────────  ───── ↪\n",
      "⎣            6                    15              3              6             ↪\n",
      "\n",
      "↪                   ⎛  13   ⅈ⎞                                                 ↪\n",
      "↪                 7⋅⎜- ── + ─⎟⋅(3 + ⅈ)                                         ↪\n",
      "↪            91     ⎝  5    5⎠             ⎛1    ⅈ ⎞   56⋅ⅈ                    ↪\n",
      "↪            ── + ──────────────────── + ⅈ⋅⎜── + ──⎟ + ────                    ↪\n",
      "↪            5             3               ⎝10   30⎠    15                     ↪\n",
      "↪                                                                              ↪\n",
      "↪                    ⎛  13   ⅈ⎞                                                ↪\n",
      "↪                 14⋅⎜- ── + ─⎟⋅(3 + ⅈ)                                        ↪\n",
      "↪           938      ⎝  5    5⎠             ⎛4    ⅈ ⎞   728⋅ⅈ                  ↪\n",
      "↪           ─── + ───────────────────── + ⅈ⋅⎜── - ──⎟ + ─────                  ↪\n",
      "↪           25              3               ⎝25   75⎠    75                    ↪\n",
      "↪                                                                              ↪\n",
      "↪     ⎛  13   ⅈ⎞        ⎞        ⎛2   4⋅ⅈ⎞     ⎛    ⎛  1   2⋅ⅈ⎞            ⎞   ↪\n",
      "↪ 7 + ⎜- ── + ─⎟⋅(3 + ⅈ)⎟   14⋅ⅈ⋅⎜─ + ───⎟     ⎜  ⅈ⋅⎜- ─ - ───⎟            ⎟   ↪\n",
      "↪     ⎝  5    5⎠        ⎠        ⎝5    5 ⎠     ⎜    ⎝  5    5 ⎠   ⅈ⋅(1 + ⅈ)⎟   ↪\n",
      "↪ ─────────────────────── - ────────────── + ⅈ⋅⎜- ───────────── + ─────────⎟   ↪\n",
      "↪         3                       15           ⎝       15             6    ⎠   ↪\n",
      "\n",
      "↪                 ⎛     ⎛  13   ⅈ⎞              ⎞      ⎤\n",
      "↪                 ⎜     ⎜- ── + ─⎟⋅(3 + ⅈ)      ⎟      ⎥\n",
      "↪                 ⎜13   ⎝  5    5⎠           4⋅ⅈ⎟      ⎥\n",
      "↪      (-2 - 3⋅ⅈ)⋅⎜── + ────────────────── + ───⎟      ⎥\n",
      "↪                 ⎝10           6            15 ⎠      ⎥\n",
      "↪                                                      ⎥\n",
      "↪                 ⎛     ⎛  13   ⅈ⎞               ⎞     ⎥\n",
      "↪                 ⎜     ⎜- ── + ─⎟⋅(3 + ⅈ)       ⎟     ⎥\n",
      "↪                 ⎜67   ⎝  5    5⎠           52⋅ⅈ⎟     ⎥\n",
      "↪      (-2 - 3⋅ⅈ)⋅⎜── + ────────────────── + ────⎟     ⎥\n",
      "↪                 ⎝25           3             75 ⎠     ⎥\n",
      "↪                                                      ⎥\n",
      "↪            ⎛  ⎛    ⎛  13   ⅈ⎞        ⎞     ⎛2   4⋅ⅈ⎞⎞⎥\n",
      "↪            ⎜ⅈ⋅⎜7 + ⎜- ── + ─⎟⋅(3 + ⅈ)⎟   ⅈ⋅⎜─ + ───⎟⎟⎥\n",
      "↪            ⎜  ⎝    ⎝  5    5⎠        ⎠     ⎝5    5 ⎠⎟⎥\n",
      "↪ (-2 - 3⋅ⅈ)⋅⎜────────────────────────── - ───────────⎟⎥\n",
      "↪            ⎝            6                    15     ⎠⎦\n"
     ]
    }
   ],
   "execution_count": 70
  }
 ],
 "metadata": {
  "kernelspec": {
   "display_name": "Python 3",
   "language": "python",
   "name": "python3"
  },
  "language_info": {
   "codemirror_mode": {
    "name": "ipython",
    "version": 2
   },
   "file_extension": ".py",
   "mimetype": "text/x-python",
   "name": "python",
   "nbconvert_exporter": "python",
   "pygments_lexer": "ipython2",
   "version": "2.7.6"
  }
 },
 "nbformat": 4,
 "nbformat_minor": 5
}
