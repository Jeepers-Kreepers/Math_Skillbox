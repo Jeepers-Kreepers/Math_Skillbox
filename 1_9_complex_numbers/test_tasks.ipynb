{
 "cells": [
  {
   "cell_type": "code",
   "id": "initial_id",
   "metadata": {
    "collapsed": true,
    "ExecuteTime": {
     "end_time": "2025-02-18T07:53:16.633860Z",
     "start_time": "2025-02-18T07:53:16.616571Z"
    }
   },
   "source": "import sympy as sp",
   "outputs": [],
   "execution_count": 82
  },
  {
   "metadata": {
    "ExecuteTime": {
     "end_time": "2025-02-18T07:53:16.671709Z",
     "start_time": "2025-02-18T07:53:16.647856Z"
    }
   },
   "cell_type": "code",
   "source": [
    "A = sp.Matrix([[2 - 3 * sp.I, 0], [0 + 2 * sp.I, 5]])\n",
    "A"
   ],
   "id": "f2493f6135b84364",
   "outputs": [
    {
     "data": {
      "text/plain": [
       "Matrix([\n",
       "[2 - 3*I, 0],\n",
       "[    2*I, 5]])"
      ],
      "text/latex": "$\\displaystyle \\left[\\begin{matrix}2 - 3 i & 0\\\\2 i & 5\\end{matrix}\\right]$"
     },
     "execution_count": 83,
     "metadata": {},
     "output_type": "execute_result"
    }
   ],
   "execution_count": 83
  },
  {
   "metadata": {
    "ExecuteTime": {
     "end_time": "2025-02-18T07:53:16.735416Z",
     "start_time": "2025-02-18T07:53:16.730032Z"
    }
   },
   "cell_type": "code",
   "source": [
    "B = sp.Matrix([[2], [15 - 5 * sp.I]])\n",
    "B"
   ],
   "id": "29a32549198813d8",
   "outputs": [
    {
     "data": {
      "text/plain": [
       "Matrix([\n",
       "[       2],\n",
       "[15 - 5*I]])"
      ],
      "text/latex": "$\\displaystyle \\left[\\begin{matrix}2\\\\15 - 5 i\\end{matrix}\\right]$"
     },
     "execution_count": 84,
     "metadata": {},
     "output_type": "execute_result"
    }
   ],
   "execution_count": 84
  },
  {
   "metadata": {
    "ExecuteTime": {
     "end_time": "2025-02-18T07:53:16.794508Z",
     "start_time": "2025-02-18T07:53:16.787969Z"
    }
   },
   "cell_type": "code",
   "source": "A * B",
   "id": "5ea08d102d34b3e8",
   "outputs": [
    {
     "data": {
      "text/plain": [
       "Matrix([\n",
       "[  4 - 6*I],\n",
       "[75 - 21*I]])"
      ],
      "text/latex": "$\\displaystyle \\left[\\begin{matrix}4 - 6 i\\\\75 - 21 i\\end{matrix}\\right]$"
     },
     "execution_count": 85,
     "metadata": {},
     "output_type": "execute_result"
    }
   ],
   "execution_count": 85
  },
  {
   "metadata": {},
   "cell_type": "markdown",
   "source": [
    "Найти приближенное решение системы уравнения x * y = z.\n",
    "  * Найти y."
   ],
   "id": "617a1056b3c9ff78"
  },
  {
   "metadata": {
    "ExecuteTime": {
     "end_time": "2025-02-18T07:53:16.919688Z",
     "start_time": "2025-02-18T07:53:16.861509Z"
    }
   },
   "cell_type": "code",
   "source": [
    "from sympy.linalg import LinAlgError  # Импортируем LinAlgError\n",
    "\n",
    "x = sp.Matrix([[2, 5, 0], [1, 3 - sp.I, 2 + sp.I]])\n",
    "z = sp.Matrix([[5, sp.I, 0], [1, 14, -2 - 3 * sp.I]])\n",
    "\n",
    "# Проверяем размеры матриц, чтобы убедиться, что умножение x * y имеет смысл.\n",
    "# x - матрица 2x3, z - матрица 2x3.\n",
    "# Для x * y = z, y должна быть матрицей 3x3.\n",
    "# Если y 3x3 - то решение возможно.\n",
    "# Если y 3xk, то решений будет k столбцов.\n",
    "\n",
    "try:\n",
    "  y_sol = x.pinv() * z # Используем псевдообратную матрицу.  Если x не квадратная и обратимая, то x.inv() выдаст ошибку.\n",
    "  print(\"Решение для y:\")\n",
    "  sp.pprint(y_sol)\n",
    "except sp.LinAlgError:\n",
    "  print(\"Невозможно найти решение: матрица x не обратима или не подходит по размеру.\")\n",
    "except ValueError as e:\n",
    "  print(f\"Ошибка: {e}\")"
   ],
   "id": "17d73e898e492f1a",
   "outputs": [
    {
     "ename": "ModuleNotFoundError",
     "evalue": "No module named 'sympy.linalg'",
     "output_type": "error",
     "traceback": [
      "\u001B[0;31m---------------------------------------------------------------------------\u001B[0m",
      "\u001B[0;31mModuleNotFoundError\u001B[0m                       Traceback (most recent call last)",
      "Cell \u001B[0;32mIn[86], line 1\u001B[0m\n\u001B[0;32m----> 1\u001B[0m \u001B[38;5;28;01mfrom\u001B[39;00m\u001B[38;5;250m \u001B[39m\u001B[38;5;21;01msympy\u001B[39;00m\u001B[38;5;21;01m.\u001B[39;00m\u001B[38;5;21;01mlinalg\u001B[39;00m\u001B[38;5;250m \u001B[39m\u001B[38;5;28;01mimport\u001B[39;00m LinAlgError  \u001B[38;5;66;03m# Импортируем LinAlgError\u001B[39;00m\n\u001B[1;32m      3\u001B[0m x \u001B[38;5;241m=\u001B[39m sp\u001B[38;5;241m.\u001B[39mMatrix([[\u001B[38;5;241m2\u001B[39m, \u001B[38;5;241m5\u001B[39m, \u001B[38;5;241m0\u001B[39m], [\u001B[38;5;241m1\u001B[39m, \u001B[38;5;241m3\u001B[39m \u001B[38;5;241m-\u001B[39m sp\u001B[38;5;241m.\u001B[39mI, \u001B[38;5;241m2\u001B[39m \u001B[38;5;241m+\u001B[39m sp\u001B[38;5;241m.\u001B[39mI]])\n\u001B[1;32m      4\u001B[0m z \u001B[38;5;241m=\u001B[39m sp\u001B[38;5;241m.\u001B[39mMatrix([[\u001B[38;5;241m5\u001B[39m, sp\u001B[38;5;241m.\u001B[39mI, \u001B[38;5;241m0\u001B[39m], [\u001B[38;5;241m1\u001B[39m, \u001B[38;5;241m14\u001B[39m, \u001B[38;5;241m-\u001B[39m\u001B[38;5;241m2\u001B[39m \u001B[38;5;241m-\u001B[39m \u001B[38;5;241m3\u001B[39m \u001B[38;5;241m*\u001B[39m sp\u001B[38;5;241m.\u001B[39mI]])\n",
      "\u001B[0;31mModuleNotFoundError\u001B[0m: No module named 'sympy.linalg'"
     ]
    }
   ],
   "execution_count": 86
  }
 ],
 "metadata": {
  "kernelspec": {
   "display_name": "Python 3",
   "language": "python",
   "name": "python3"
  },
  "language_info": {
   "codemirror_mode": {
    "name": "ipython",
    "version": 2
   },
   "file_extension": ".py",
   "mimetype": "text/x-python",
   "name": "python",
   "nbconvert_exporter": "python",
   "pygments_lexer": "ipython2",
   "version": "2.7.6"
  }
 },
 "nbformat": 4,
 "nbformat_minor": 5
}
