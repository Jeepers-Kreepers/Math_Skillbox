{
 "cells": [
  {
   "cell_type": "code",
   "id": "initial_id",
   "metadata": {
    "collapsed": true,
    "ExecuteTime": {
     "end_time": "2025-02-13T17:30:13.022353Z",
     "start_time": "2025-02-13T17:30:12.828406Z"
    }
   },
   "source": [
    "import sympy as sp\n",
    "\n",
    "A = sp.Matrix([[3, 1], [-5, 2]])\n",
    "B = sp.Matrix([[-2, 1], [3, 4]])"
   ],
   "outputs": [],
   "execution_count": 1
  },
  {
   "metadata": {},
   "cell_type": "markdown",
   "source": "Найти 2*A - 3*B + I\n",
   "id": "718687eced9d0c31"
  },
  {
   "metadata": {
    "ExecuteTime": {
     "end_time": "2025-02-13T17:30:13.034842Z",
     "start_time": "2025-02-13T17:30:13.027937Z"
    }
   },
   "cell_type": "code",
   "source": "2*A - 3*B + sp.eye(2)  #  sp.eye(2) - единичная матрица 2x2",
   "id": "a30bfca9dfef7e2e",
   "outputs": [
    {
     "data": {
      "text/plain": [
       "Matrix([\n",
       "[ 13, -1],\n",
       "[-19, -7]])"
      ],
      "text/latex": "$\\displaystyle \\left[\\begin{matrix}13 & -1\\\\-19 & -7\\end{matrix}\\right]$"
     },
     "execution_count": 2,
     "metadata": {},
     "output_type": "execute_result"
    }
   ],
   "execution_count": 2
  },
  {
   "metadata": {},
   "cell_type": "markdown",
   "source": "Убеждаемся, что A*B != B*A",
   "id": "be31d6d7e112d7e5"
  },
  {
   "metadata": {
    "ExecuteTime": {
     "end_time": "2025-02-13T17:30:13.154639Z",
     "start_time": "2025-02-13T17:30:13.150559Z"
    }
   },
   "cell_type": "code",
   "source": "A * B",
   "id": "458ce11f2cf12c42",
   "outputs": [
    {
     "data": {
      "text/plain": [
       "Matrix([\n",
       "[-3, 7],\n",
       "[16, 3]])"
      ],
      "text/latex": "$\\displaystyle \\left[\\begin{matrix}-3 & 7\\\\16 & 3\\end{matrix}\\right]$"
     },
     "execution_count": 3,
     "metadata": {},
     "output_type": "execute_result"
    }
   ],
   "execution_count": 3
  },
  {
   "metadata": {
    "ExecuteTime": {
     "end_time": "2025-02-13T17:30:13.202506Z",
     "start_time": "2025-02-13T17:30:13.197428Z"
    }
   },
   "cell_type": "code",
   "source": "B * A",
   "id": "9550d2cfff65198e",
   "outputs": [
    {
     "data": {
      "text/plain": [
       "Matrix([\n",
       "[-11,  0],\n",
       "[-11, 11]])"
      ],
      "text/latex": "$\\displaystyle \\left[\\begin{matrix}-11 & 0\\\\-11 & 11\\end{matrix}\\right]$"
     },
     "execution_count": 4,
     "metadata": {},
     "output_type": "execute_result"
    }
   ],
   "execution_count": 4
  },
  {
   "metadata": {},
   "cell_type": "markdown",
   "source": "Умножение матриц",
   "id": "7d5e4f6c6676b8d5"
  },
  {
   "metadata": {
    "ExecuteTime": {
     "end_time": "2025-02-13T17:30:13.249703Z",
     "start_time": "2025-02-13T17:30:13.246193Z"
    }
   },
   "cell_type": "code",
   "source": [
    "D = sp.Matrix([[1, 2, 0], [3, 45, 6]])\n",
    "E = sp.Matrix([7, 8, 0])"
   ],
   "id": "79da6c09b326cbd0",
   "outputs": [],
   "execution_count": 5
  },
  {
   "metadata": {
    "ExecuteTime": {
     "end_time": "2025-02-13T17:30:13.299892Z",
     "start_time": "2025-02-13T17:30:13.295419Z"
    }
   },
   "cell_type": "code",
   "source": "D",
   "id": "acd82b86f342e21a",
   "outputs": [
    {
     "data": {
      "text/plain": [
       "Matrix([\n",
       "[1,  2, 0],\n",
       "[3, 45, 6]])"
      ],
      "text/latex": "$\\displaystyle \\left[\\begin{matrix}1 & 2 & 0\\\\3 & 45 & 6\\end{matrix}\\right]$"
     },
     "execution_count": 6,
     "metadata": {},
     "output_type": "execute_result"
    }
   ],
   "execution_count": 6
  },
  {
   "metadata": {
    "ExecuteTime": {
     "end_time": "2025-02-13T17:30:13.351825Z",
     "start_time": "2025-02-13T17:30:13.346745Z"
    }
   },
   "cell_type": "code",
   "source": "E",
   "id": "a37b87d05afeed4a",
   "outputs": [
    {
     "data": {
      "text/plain": [
       "Matrix([\n",
       "[7],\n",
       "[8],\n",
       "[0]])"
      ],
      "text/latex": "$\\displaystyle \\left[\\begin{matrix}7\\\\8\\\\0\\end{matrix}\\right]$"
     },
     "execution_count": 7,
     "metadata": {},
     "output_type": "execute_result"
    }
   ],
   "execution_count": 7
  },
  {
   "metadata": {
    "ExecuteTime": {
     "end_time": "2025-02-13T17:30:13.402235Z",
     "start_time": "2025-02-13T17:30:13.397099Z"
    }
   },
   "cell_type": "code",
   "source": "D * E",
   "id": "cea20f5c6247f29",
   "outputs": [
    {
     "data": {
      "text/plain": [
       "Matrix([\n",
       "[ 23],\n",
       "[381]])"
      ],
      "text/latex": "$\\displaystyle \\left[\\begin{matrix}23\\\\381\\end{matrix}\\right]$"
     },
     "execution_count": 8,
     "metadata": {},
     "output_type": "execute_result"
    }
   ],
   "execution_count": 8
  }
 ],
 "metadata": {
  "kernelspec": {
   "display_name": "Python 3",
   "language": "python",
   "name": "python3"
  },
  "language_info": {
   "codemirror_mode": {
    "name": "ipython",
    "version": 2
   },
   "file_extension": ".py",
   "mimetype": "text/x-python",
   "name": "python",
   "nbconvert_exporter": "python",
   "pygments_lexer": "ipython2",
   "version": "2.7.6"
  }
 },
 "nbformat": 4,
 "nbformat_minor": 5
}
