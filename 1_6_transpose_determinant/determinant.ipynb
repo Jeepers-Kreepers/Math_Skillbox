{
 "cells": [
  {
   "metadata": {},
   "cell_type": "markdown",
   "source": "Детерминант",
   "id": "fd27e6d1edd5544a"
  },
  {
   "metadata": {
    "ExecuteTime": {
     "end_time": "2025-02-09T09:47:47.927136Z",
     "start_time": "2025-02-09T09:47:46.444452Z"
    }
   },
   "cell_type": "code",
   "source": [
    "import sympy as sp\n",
    "\n",
    "A = sp.Matrix([[5, -2], [1, 6]])\n",
    "B = sp.Matrix([[1, -3, -1], [-2, 7, 2], [3, 2, -4]])\n",
    "C = sp.Matrix([[1, -3], [-2, 0], [3, 0]])\n",
    "\n"
   ],
   "id": "45687f9326623011",
   "outputs": [],
   "execution_count": 1
  },
  {
   "metadata": {
    "ExecuteTime": {
     "end_time": "2025-02-09T09:47:47.944621Z",
     "start_time": "2025-02-09T09:47:47.939620Z"
    }
   },
   "cell_type": "code",
   "source": [
    "print(A.det())\n",
    "print(B.det())"
   ],
   "id": "bd7093cf875a7bef",
   "outputs": [
    {
     "name": "stdout",
     "output_type": "stream",
     "text": [
      "32\n",
      "-1\n"
     ]
    }
   ],
   "execution_count": 2
  },
  {
   "metadata": {
    "ExecuteTime": {
     "end_time": "2025-02-09T09:47:48.089801Z",
     "start_time": "2025-02-09T09:47:48.086413Z"
    }
   },
   "cell_type": "code",
   "source": [
    "try:\n",
    "    print(C.det())\n",
    "\n",
    "except ValueError as e:\n",
    "    print(\"Ошибочка вышла\", e)"
   ],
   "id": "2d9931873f295820",
   "outputs": [
    {
     "name": "stdout",
     "output_type": "stream",
     "text": [
      "Ошибочка вышла \n"
     ]
    }
   ],
   "execution_count": 3
  },
  {
   "metadata": {},
   "cell_type": "markdown",
   "source": "Транспонирование",
   "id": "5e2658b9055ac66b"
  },
  {
   "metadata": {
    "ExecuteTime": {
     "end_time": "2025-02-09T09:47:48.145878Z",
     "start_time": "2025-02-09T09:47:48.141946Z"
    }
   },
   "cell_type": "code",
   "source": [
    "E = sp.Matrix([2, 3, 5, 3, 8, 3])\n",
    "F = sp.Matrix([[7, 14, 15, 0, 0], [21, 32, 4845, 48, 70]])\n"
   ],
   "id": "bef879143039182c",
   "outputs": [],
   "execution_count": 4
  },
  {
   "metadata": {
    "ExecuteTime": {
     "end_time": "2025-02-09T09:47:48.206201Z",
     "start_time": "2025-02-09T09:47:48.200956Z"
    }
   },
   "cell_type": "code",
   "source": [
    "# Способ 1: Использование метода .T\n",
    "ET = E.T\n",
    "sp.pprint(E)\n",
    "sp.pprint(ET)"
   ],
   "id": "a67c1e904f03de48",
   "outputs": [
    {
     "name": "stdout",
     "output_type": "stream",
     "text": [
      "⎡2⎤\n",
      "⎢ ⎥\n",
      "⎢3⎥\n",
      "⎢ ⎥\n",
      "⎢5⎥\n",
      "⎢ ⎥\n",
      "⎢3⎥\n",
      "⎢ ⎥\n",
      "⎢8⎥\n",
      "⎢ ⎥\n",
      "⎣3⎦\n",
      "[2  3  5  3  8  3]\n"
     ]
    }
   ],
   "execution_count": 5
  },
  {
   "metadata": {},
   "cell_type": "markdown",
   "source": "Выполнив код ниже, получим ошибку. Поскольку транспонированная матрица и матрица E имеют размерности не позволяющие их перемножить.",
   "id": "5c3ebf2913a638d3"
  },
  {
   "metadata": {
    "ExecuteTime": {
     "end_time": "2025-02-09T09:47:48.614780Z",
     "start_time": "2025-02-09T09:47:48.320240Z"
    }
   },
   "cell_type": "code",
   "source": "sp.pprint(ET * F * E)",
   "id": "54ddc32bdeb99be0",
   "outputs": [
    {
     "ename": "ShapeError",
     "evalue": "Matrix size mismatch: (1, 6) * (2, 5).",
     "output_type": "error",
     "traceback": [
      "\u001B[0;31m---------------------------------------------------------------------------\u001B[0m",
      "\u001B[0;31mShapeError\u001B[0m                                Traceback (most recent call last)",
      "Cell \u001B[0;32mIn[6], line 1\u001B[0m\n\u001B[0;32m----> 1\u001B[0m sp\u001B[38;5;241m.\u001B[39mpprint(\u001B[43mET\u001B[49m\u001B[43m \u001B[49m\u001B[38;5;241;43m*\u001B[39;49m\u001B[43m \u001B[49m\u001B[43mF\u001B[49m \u001B[38;5;241m*\u001B[39m E)\n",
      "File \u001B[0;32m~/.cache/pypoetry/virtualenvs/math-skillbox-iHwjudfk-py3.11/lib/python3.11/site-packages/sympy/core/decorators.py:106\u001B[0m, in \u001B[0;36mcall_highest_priority.<locals>.priority_decorator.<locals>.binary_op_wrapper\u001B[0;34m(self, other)\u001B[0m\n\u001B[1;32m    104\u001B[0m         \u001B[38;5;28;01mif\u001B[39;00m f \u001B[38;5;129;01mis\u001B[39;00m \u001B[38;5;129;01mnot\u001B[39;00m \u001B[38;5;28;01mNone\u001B[39;00m:\n\u001B[1;32m    105\u001B[0m             \u001B[38;5;28;01mreturn\u001B[39;00m f(\u001B[38;5;28mself\u001B[39m)\n\u001B[0;32m--> 106\u001B[0m \u001B[38;5;28;01mreturn\u001B[39;00m \u001B[43mfunc\u001B[49m\u001B[43m(\u001B[49m\u001B[38;5;28;43mself\u001B[39;49m\u001B[43m,\u001B[49m\u001B[43m \u001B[49m\u001B[43mother\u001B[49m\u001B[43m)\u001B[49m\n",
      "File \u001B[0;32m~/.cache/pypoetry/virtualenvs/math-skillbox-iHwjudfk-py3.11/lib/python3.11/site-packages/sympy/matrices/matrixbase.py:2821\u001B[0m, in \u001B[0;36mMatrixBase.__mul__\u001B[0;34m(self, other)\u001B[0m\n\u001B[1;32m   2792\u001B[0m \u001B[38;5;129m@call_highest_priority\u001B[39m(\u001B[38;5;124m'\u001B[39m\u001B[38;5;124m__rmul__\u001B[39m\u001B[38;5;124m'\u001B[39m)\n\u001B[1;32m   2793\u001B[0m \u001B[38;5;28;01mdef\u001B[39;00m\u001B[38;5;250m \u001B[39m\u001B[38;5;21m__mul__\u001B[39m(\u001B[38;5;28mself\u001B[39m, other):\n\u001B[1;32m   2794\u001B[0m \u001B[38;5;250m    \u001B[39m\u001B[38;5;124;03m\"\"\"Return self*other where other is either a scalar or a matrix\u001B[39;00m\n\u001B[1;32m   2795\u001B[0m \u001B[38;5;124;03m    of compatible dimensions.\u001B[39;00m\n\u001B[1;32m   2796\u001B[0m \n\u001B[0;32m   (...)\u001B[0m\n\u001B[1;32m   2818\u001B[0m \u001B[38;5;124;03m    matrix_multiply_elementwise\u001B[39;00m\n\u001B[1;32m   2819\u001B[0m \u001B[38;5;124;03m    \"\"\"\u001B[39;00m\n\u001B[0;32m-> 2821\u001B[0m     \u001B[38;5;28;01mreturn\u001B[39;00m \u001B[38;5;28;43mself\u001B[39;49m\u001B[38;5;241;43m.\u001B[39;49m\u001B[43mmultiply\u001B[49m\u001B[43m(\u001B[49m\u001B[43mother\u001B[49m\u001B[43m)\u001B[49m\n",
      "File \u001B[0;32m~/.cache/pypoetry/virtualenvs/math-skillbox-iHwjudfk-py3.11/lib/python3.11/site-packages/sympy/matrices/matrixbase.py:2848\u001B[0m, in \u001B[0;36mMatrixBase.multiply\u001B[0;34m(self, other, dotprodsimp)\u001B[0m\n\u001B[1;32m   2845\u001B[0m \u001B[38;5;28;01melif\u001B[39;00m T \u001B[38;5;241m==\u001B[39m \u001B[38;5;124m\"\u001B[39m\u001B[38;5;124mis_matrix\u001B[39m\u001B[38;5;124m\"\u001B[39m:\n\u001B[1;32m   2847\u001B[0m     \u001B[38;5;28;01mif\u001B[39;00m \u001B[38;5;28mself\u001B[39m\u001B[38;5;241m.\u001B[39mshape[\u001B[38;5;241m1\u001B[39m] \u001B[38;5;241m!=\u001B[39m other\u001B[38;5;241m.\u001B[39mshape[\u001B[38;5;241m0\u001B[39m]:\n\u001B[0;32m-> 2848\u001B[0m         \u001B[38;5;28;01mraise\u001B[39;00m ShapeError(\u001B[38;5;124mf\u001B[39m\u001B[38;5;124m\"\u001B[39m\u001B[38;5;124mMatrix size mismatch: \u001B[39m\u001B[38;5;132;01m{\u001B[39;00m\u001B[38;5;28mself\u001B[39m\u001B[38;5;241m.\u001B[39mshape\u001B[38;5;132;01m}\u001B[39;00m\u001B[38;5;124m * \u001B[39m\u001B[38;5;132;01m{\u001B[39;00mother\u001B[38;5;241m.\u001B[39mshape\u001B[38;5;132;01m}\u001B[39;00m\u001B[38;5;124m.\u001B[39m\u001B[38;5;124m\"\u001B[39m)\n\u001B[1;32m   2850\u001B[0m     m \u001B[38;5;241m=\u001B[39m \u001B[38;5;28mself\u001B[39m\u001B[38;5;241m.\u001B[39m_eval_matrix_mul(other)\n\u001B[1;32m   2852\u001B[0m     \u001B[38;5;28;01mif\u001B[39;00m isimpbool:\n",
      "\u001B[0;31mShapeError\u001B[0m: Matrix size mismatch: (1, 6) * (2, 5)."
     ]
    }
   ],
   "execution_count": 6
  }
 ],
 "metadata": {
  "kernelspec": {
   "display_name": "Python 3",
   "language": "python",
   "name": "python3"
  },
  "language_info": {
   "codemirror_mode": {
    "name": "ipython",
    "version": 2
   },
   "file_extension": ".py",
   "mimetype": "text/x-python",
   "name": "python",
   "nbconvert_exporter": "python",
   "pygments_lexer": "ipython2",
   "version": "2.7.6"
  }
 },
 "nbformat": 4,
 "nbformat_minor": 5
}
