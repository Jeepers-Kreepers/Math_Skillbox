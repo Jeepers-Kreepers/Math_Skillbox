{
 "cells": [
  {
   "metadata": {},
   "cell_type": "markdown",
   "source": [
    "Видео 2\n",
    "-\n",
    "**Задача 1**\n",
    "\n",
    "Даны векторы $\\vec{a} = \\begin{bmatrix}\n",
    "    1 \\\\ 2 \\\\ 3\n",
    "\\end{bmatrix}$,\n",
    "$\\vec{b} = \\begin{bmatrix}\n",
    "    -5 \\\\ -1 \\\\ 6\n",
    "\\end{bmatrix}$, $\\vec{c} = \\begin{bmatrix}\n",
    "    -1 \\\\ 3 \\\\ 9\n",
    "\\end{bmatrix}$.\n",
    "\n",
    "Найдите результат вычисления: $3\\vec{a} + 2\\vec{b} - 4\\vec{c}$."
   ],
   "id": "1a5504d9e483c1ab"
  },
  {
   "metadata": {
    "ExecuteTime": {
     "end_time": "2025-03-04T11:25:30.190394Z",
     "start_time": "2025-03-04T11:25:30.183931Z"
    }
   },
   "cell_type": "code",
   "source": [
    "# Решение\n",
    "import sympy as sp\n",
    "\n",
    "a = sp.Matrix([1, 2, 3])\n",
    "b = sp.Matrix([-5, -1, 6])\n",
    "c = sp.Matrix([-1, 3, 9])\n",
    "\n",
    "3 * a + 2 * b - 4 * c"
   ],
   "id": "59b8b5b62387454a",
   "outputs": [
    {
     "data": {
      "text/plain": [
       "Matrix([\n",
       "[ -3],\n",
       "[ -8],\n",
       "[-15]])"
      ],
      "text/latex": "$\\displaystyle \\left[\\begin{matrix}-3\\\\-8\\\\-15\\end{matrix}\\right]$"
     },
     "execution_count": 68,
     "metadata": {},
     "output_type": "execute_result"
    }
   ],
   "execution_count": 68
  },
  {
   "metadata": {},
   "cell_type": "markdown",
   "source": [
    "---\n",
    "**Задача 2**\n",
    "\n",
    "Даны точки $\\mathbf{A}(3,-2)$ и $\\mathbf{B}(1,4)$. Точка $\\mathbf{M}$ лежит на прямой $\\mathbf{AB}$ так, что\n",
    "$|\\mathbf{AM}| = 3|\\mathbf{AB}|$. Найдите координаты точки $ \\mathbf{M}$, если точки $ \\mathbf{M}$ и $ \\mathbf{B}$ лежат по одну сторону от A."
   ],
   "id": "497c7a05d0e0d215"
  },
  {
   "metadata": {
    "ExecuteTime": {
     "end_time": "2025-03-04T11:25:30.249942Z",
     "start_time": "2025-03-04T11:25:30.244216Z"
    }
   },
   "cell_type": "code",
   "source": [
    "a = sp.Matrix([3, -2])  # координаты точки A\n",
    "b = sp.Matrix([1, 4])  # координаты точки B\n",
    "ab = b - a  # вектор AB\n",
    "m = a + 3 * ab  # координаты точки M\n",
    "m"
   ],
   "id": "abe27b8b74085a7b",
   "outputs": [
    {
     "data": {
      "text/plain": [
       "Matrix([\n",
       "[-3],\n",
       "[16]])"
      ],
      "text/latex": "$\\displaystyle \\left[\\begin{matrix}-3\\\\16\\end{matrix}\\right]$"
     },
     "execution_count": 69,
     "metadata": {},
     "output_type": "execute_result"
    }
   ],
   "execution_count": 69
  },
  {
   "metadata": {},
   "cell_type": "markdown",
   "source": [
    "---\n",
    "Видео 4\n",
    "-"
   ],
   "id": "680e3ae1c6bad5f"
  },
  {
   "metadata": {},
   "cell_type": "markdown",
   "source": [
    "\n",
    "- **Задача 1**\n",
    "\n",
    "Найдите векторное произведение двух векторов:\n",
    "    \\begin{align*}\n",
    "        \\vec{a} = \\begin{bmatrix}-5\\\\3\\\\8\\end{bmatrix},\\ \\vec{b} = \\begin{bmatrix}2\\\\5\\\\1\\end{bmatrix} \\\\\n",
    "         \\end{align*}"
   ],
   "id": "845ef095f7cdb9d8"
  },
  {
   "metadata": {
    "ExecuteTime": {
     "end_time": "2025-03-04T11:25:30.310651Z",
     "start_time": "2025-03-04T11:25:30.305344Z"
    }
   },
   "cell_type": "code",
   "source": [
    "a = sp.Matrix([-5, 3, 8])\n",
    "b = sp.Matrix([2, 5, 1])\n",
    "\n",
    "a.cross(b)"
   ],
   "id": "2e19fa085269eb2f",
   "outputs": [
    {
     "data": {
      "text/plain": [
       "Matrix([\n",
       "[-37],\n",
       "[ 21],\n",
       "[-31]])"
      ],
      "text/latex": "$\\displaystyle \\left[\\begin{matrix}-37\\\\21\\\\-31\\end{matrix}\\right]$"
     },
     "execution_count": 70,
     "metadata": {},
     "output_type": "execute_result"
    }
   ],
   "execution_count": 70
  },
  {
   "metadata": {},
   "cell_type": "markdown",
   "source": [
    "**Задача 2**\n",
    "\n",
    "Упростите выражение:\n",
    "    \\begin{align*}\n",
    "        (\\vec{a} + \\vec{b} ) \\times (\\vec{a} - \\vec{b})\n",
    "    \\end{align*}"
   ],
   "id": "96d89d382c416365"
  },
  {
   "metadata": {
    "ExecuteTime": {
     "end_time": "2025-03-04T11:25:30.366610Z",
     "start_time": "2025-03-04T11:25:30.362840Z"
    }
   },
   "cell_type": "code",
   "source": [
    "z, c, v, m, n, s = sp.symbols('z c v m n s')  # объявление переменных\n",
    "\n",
    "a, b = sp.Matrix([z, c, v]), sp.Matrix([m, n, s])"
   ],
   "id": "d142aa046c98c38d",
   "outputs": [],
   "execution_count": 71
  },
  {
   "metadata": {
    "ExecuteTime": {
     "end_time": "2025-03-04T11:25:30.484817Z",
     "start_time": "2025-03-04T11:25:30.474975Z"
    }
   },
   "cell_type": "code",
   "source": [
    "expr = (a + b).cross(a - b) # выражение до упрощения\n",
    "expr"
   ],
   "id": "fbbf17652cb63165",
   "outputs": [
    {
     "data": {
      "text/plain": [
       "Matrix([\n",
       "[-(c - n)*(s + v) + (c + n)*(-s + v)],\n",
       "[(-m + z)*(s + v) - (m + z)*(-s + v)],\n",
       "[ (c - n)*(m + z) - (c + n)*(-m + z)]])"
      ],
      "text/latex": "$\\displaystyle \\left[\\begin{matrix}- \\left(c - n\\right) \\left(s + v\\right) + \\left(c + n\\right) \\left(- s + v\\right)\\\\\\left(- m + z\\right) \\left(s + v\\right) - \\left(m + z\\right) \\left(- s + v\\right)\\\\\\left(c - n\\right) \\left(m + z\\right) - \\left(c + n\\right) \\left(- m + z\\right)\\end{matrix}\\right]$"
     },
     "execution_count": 73,
     "metadata": {},
     "output_type": "execute_result"
    }
   ],
   "execution_count": 73
  },
  {
   "metadata": {
    "ExecuteTime": {
     "end_time": "2025-03-04T11:25:30.546628Z",
     "start_time": "2025-03-04T11:25:30.537765Z"
    }
   },
   "cell_type": "code",
   "source": [
    "expr = sp.expand((a + b).cross(a - b)) # упрощенное выражение\n",
    "expr"
   ],
   "id": "4cfc834efd909bcc",
   "outputs": [
    {
     "data": {
      "text/plain": [
       "Matrix([\n",
       "[-2*c*s + 2*n*v],\n",
       "[-2*m*v + 2*s*z],\n",
       "[ 2*c*m - 2*n*z]])"
      ],
      "text/latex": "$\\displaystyle \\left[\\begin{matrix}- 2 c s + 2 n v\\\\- 2 m v + 2 s z\\\\2 c m - 2 n z\\end{matrix}\\right]$"
     },
     "execution_count": 74,
     "metadata": {},
     "output_type": "execute_result"
    }
   ],
   "execution_count": 74
  },
  {
   "metadata": {},
   "cell_type": "markdown",
   "source": "---",
   "id": "b48d061e923ca021"
  },
  {
   "metadata": {},
   "cell_type": "markdown",
   "source": [
    "**Задача 3**\n",
    "\n",
    "Все три вектора $\\vec{a}, \\vec{b},\\vec{c}$ имеют длину $3$, и $\\vec{a} + \\vec{b} + \\vec{c} = \\vec{0}$.\n",
    "\n",
    "Найдите результат вычисления: $\\vec{a} \\cdot \\vec{b} + \\vec{b} \\cdot \\vec{c} + \\vec{c} \\cdot \\vec{a}$.\n",
    "\n",
    "*Подсказка: необходимо нарисовать этот случай (треугольник)*."
   ],
   "id": "b65605fd9a812a92"
  },
  {
   "metadata": {
    "ExecuteTime": {
     "end_time": "2025-03-04T11:25:30.637384Z",
     "start_time": "2025-03-04T11:25:30.626491Z"
    }
   },
   "cell_type": "code",
   "source": [
    "import sympy as sp\n",
    "# import numpy as np\n",
    "from scipy.optimize import fsolve\n",
    "\n",
    "# Определяем символы для компонент векторов\n",
    "a1, a2, a3, b1, b2, b3 = sp.symbols('a1 a2 a3 b1 b2 b3')\n",
    "angle  = sp.symbols('angle')\n",
    "angle = sp.pi - sp.pi/3\n",
    "\n",
    "# Определяем векторы a и b\n",
    "a = sp.Matrix([a1, a2, a3])\n",
    "b = sp.Matrix([b1, b2, b3])\n",
    "\n",
    "# Вычисляем c из условия a + b + c = 0\n",
    "c = -a - b\n",
    "c1 = c[0]\n",
    "c2 = c[1]\n",
    "c3 = c[2]\n",
    "c"
   ],
   "id": "5d35d2aa4838f96e",
   "outputs": [
    {
     "data": {
      "text/plain": [
       "Matrix([\n",
       "[-a1 - b1],\n",
       "[-a2 - b2],\n",
       "[-a3 - b3]])"
      ],
      "text/latex": "$\\displaystyle \\left[\\begin{matrix}- a_{1} - b_{1}\\\\- a_{2} - b_{2}\\\\- a_{3} - b_{3}\\end{matrix}\\right]$"
     },
     "execution_count": 75,
     "metadata": {},
     "output_type": "execute_result"
    }
   ],
   "execution_count": 75
  },
  {
   "metadata": {
    "ExecuteTime": {
     "end_time": "2025-03-04T11:25:30.698841Z",
     "start_time": "2025-03-04T11:25:30.689180Z"
    }
   },
   "cell_type": "code",
   "source": [
    "dot_ab = a.dot(b)\n",
    "dot_bc = b.dot(c)\n",
    "dot_ca = c.dot(a)\n",
    "\n",
    "# Сумма скалярных произведений (символьное выражение)\n",
    "result = dot_ab + dot_bc + dot_ca\n",
    "result"
   ],
   "id": "b7d57514c77dbdf5",
   "outputs": [
    {
     "data": {
      "text/plain": [
       "a1*b1 + a1*(-a1 - b1) + a2*b2 + a2*(-a2 - b2) + a3*b3 + a3*(-a3 - b3) + b1*(-a1 - b1) + b2*(-a2 - b2) + b3*(-a3 - b3)"
      ],
      "text/latex": "$\\displaystyle a_{1} b_{1} + a_{1} \\left(- a_{1} - b_{1}\\right) + a_{2} b_{2} + a_{2} \\left(- a_{2} - b_{2}\\right) + a_{3} b_{3} + a_{3} \\left(- a_{3} - b_{3}\\right) + b_{1} \\left(- a_{1} - b_{1}\\right) + b_{2} \\left(- a_{2} - b_{2}\\right) + b_{3} \\left(- a_{3} - b_{3}\\right)$"
     },
     "execution_count": 76,
     "metadata": {},
     "output_type": "execute_result"
    }
   ],
   "execution_count": 76
  },
  {
   "metadata": {
    "ExecuteTime": {
     "end_time": "2025-03-04T11:25:30.779902Z",
     "start_time": "2025-03-04T11:25:30.773062Z"
    }
   },
   "cell_type": "code",
   "source": [
    "mod_a = mod_b = mod_c = 3\n",
    "dot_ab = mod_a * mod_b * sp.cos(angle)\n",
    "dot_bc = mod_b * mod_c * sp.cos(angle)\n",
    "dot_ca = mod_c * mod_a * sp.cos(angle)\n",
    "\n",
    "# Сумма скалярных произведений (числовое значение)\n",
    "result_num = dot_ab + dot_bc + dot_ca\n",
    "result_num"
   ],
   "id": "15b1636bdafc5941",
   "outputs": [
    {
     "data": {
      "text/plain": [
       "-27/2"
      ],
      "text/latex": "$\\displaystyle - \\frac{27}{2}$"
     },
     "execution_count": 77,
     "metadata": {},
     "output_type": "execute_result"
    }
   ],
   "execution_count": 77
  },
  {
   "metadata": {},
   "cell_type": "markdown",
   "source": [
    "---\n",
    "Видео 6\n",
    "-"
   ],
   "id": "fd4f727d546971b5"
  },
  {
   "metadata": {},
   "cell_type": "markdown",
   "source": [
    "**Задача 1**\n",
    "\n",
    "Даны $A=\\begin{bmatrix} 2 & -1 & -1\\end{bmatrix}$ и $B=\\begin{bmatrix} -2 \\\\ -1 \\\\ 3 \\end{bmatrix}$.\n",
    "\n",
    "1. Найдите $AB$ и $BA$, если они существуют.\n",
    "2. Найдите $A^TB$ и $BA^T$, если они существуют."
   ],
   "id": "cb9d5832b7576442"
  },
  {
   "metadata": {
    "ExecuteTime": {
     "end_time": "2025-03-04T11:25:30.849591Z",
     "start_time": "2025-03-04T11:25:30.843860Z"
    }
   },
   "cell_type": "code",
   "source": [
    "a = sp.Matrix([[2, -1, -1]])\n",
    "b = sp.Matrix([-2, -1, 3])\n",
    "a"
   ],
   "id": "74b51eac4aeab1f9",
   "outputs": [
    {
     "data": {
      "text/plain": [
       "Matrix([[2, -1, -1]])"
      ],
      "text/latex": "$\\displaystyle \\left[\\begin{matrix}2 & -1 & -1\\end{matrix}\\right]$"
     },
     "execution_count": 78,
     "metadata": {},
     "output_type": "execute_result"
    }
   ],
   "execution_count": 78
  },
  {
   "metadata": {
    "ExecuteTime": {
     "end_time": "2025-03-04T11:25:30.916622Z",
     "start_time": "2025-03-04T11:25:30.911218Z"
    }
   },
   "cell_type": "code",
   "source": "b",
   "id": "52bde9aaea76de1f",
   "outputs": [
    {
     "data": {
      "text/plain": [
       "Matrix([\n",
       "[-2],\n",
       "[-1],\n",
       "[ 3]])"
      ],
      "text/latex": "$\\displaystyle \\left[\\begin{matrix}-2\\\\-1\\\\3\\end{matrix}\\right]$"
     },
     "execution_count": 79,
     "metadata": {},
     "output_type": "execute_result"
    }
   ],
   "execution_count": 79
  },
  {
   "metadata": {
    "ExecuteTime": {
     "end_time": "2025-03-04T11:25:30.969821Z",
     "start_time": "2025-03-04T11:25:30.964740Z"
    }
   },
   "cell_type": "code",
   "source": "a * b",
   "id": "6d8c76c35e7d80d5",
   "outputs": [
    {
     "data": {
      "text/plain": [
       "Matrix([[-6]])"
      ],
      "text/latex": "$\\displaystyle \\left[\\begin{matrix}-6\\end{matrix}\\right]$"
     },
     "execution_count": 80,
     "metadata": {},
     "output_type": "execute_result"
    }
   ],
   "execution_count": 80
  },
  {
   "metadata": {
    "ExecuteTime": {
     "end_time": "2025-03-04T11:25:31.030244Z",
     "start_time": "2025-03-04T11:25:31.024183Z"
    }
   },
   "cell_type": "code",
   "source": "b * a",
   "id": "fa8c6bb4e6d8f755",
   "outputs": [
    {
     "data": {
      "text/plain": [
       "Matrix([\n",
       "[-4,  2,  2],\n",
       "[-2,  1,  1],\n",
       "[ 6, -3, -3]])"
      ],
      "text/latex": "$\\displaystyle \\left[\\begin{matrix}-4 & 2 & 2\\\\-2 & 1 & 1\\\\6 & -3 & -3\\end{matrix}\\right]$"
     },
     "execution_count": 81,
     "metadata": {},
     "output_type": "execute_result"
    }
   ],
   "execution_count": 81
  },
  {
   "metadata": {
    "ExecuteTime": {
     "end_time": "2025-03-04T11:25:31.089638Z",
     "start_time": "2025-03-04T11:25:31.084471Z"
    }
   },
   "cell_type": "code",
   "source": "a.T # транспонированный вектор A^T",
   "id": "7a81c2e6b1b744e6",
   "outputs": [
    {
     "data": {
      "text/plain": [
       "Matrix([\n",
       "[ 2],\n",
       "[-1],\n",
       "[-1]])"
      ],
      "text/latex": "$\\displaystyle \\left[\\begin{matrix}2\\\\-1\\\\-1\\end{matrix}\\right]$"
     },
     "execution_count": 82,
     "metadata": {},
     "output_type": "execute_result"
    }
   ],
   "execution_count": 82
  },
  {
   "metadata": {
    "ExecuteTime": {
     "end_time": "2025-03-04T11:25:31.150989Z",
     "start_time": "2025-03-04T11:25:31.145616Z"
    }
   },
   "cell_type": "code",
   "source": "b.T # b.T - транспонированный вектор B^T",
   "id": "c1b94abebbbc5ba0",
   "outputs": [
    {
     "data": {
      "text/plain": [
       "Matrix([[-2, -1, 3]])"
      ],
      "text/latex": "$\\displaystyle \\left[\\begin{matrix}-2 & -1 & 3\\end{matrix}\\right]$"
     },
     "execution_count": 83,
     "metadata": {},
     "output_type": "execute_result"
    }
   ],
   "execution_count": 83
  },
  {
   "metadata": {},
   "cell_type": "markdown",
   "source": "$A^TB$ и $BA^T$ невозможно,  так как размерности матриц не совпадают.",
   "id": "28b83ea25266ec0f"
  },
  {
   "metadata": {},
   "cell_type": "markdown",
   "source": [
    "---\n",
    "**Задача 2**\n",
    "\n",
    "Дана матрица $A = \\begin{bmatrix} 1 & 4 \\\\ 9 & 1\\end{bmatrix}$.\n",
    "\n",
    "Найдите $l$, если определитель $A - El$ равен $0$, где $E$ — единичная матрица."
   ],
   "id": "4756f52df07d43d0"
  },
  {
   "metadata": {
    "ExecuteTime": {
     "end_time": "2025-03-04T11:25:31.207534Z",
     "start_time": "2025-03-04T11:25:31.203889Z"
    }
   },
   "cell_type": "code",
   "source": "A = sp.Matrix([[1, 4], [9, 1]])",
   "id": "5166c22e882deb0e",
   "outputs": [],
   "execution_count": 84
  },
  {
   "metadata": {
    "ExecuteTime": {
     "end_time": "2025-03-04T11:25:31.271278Z",
     "start_time": "2025-03-04T11:25:31.265542Z"
    }
   },
   "cell_type": "code",
   "source": [
    "E = sp.eye(2) # единичная матрица 2x2\n",
    "E"
   ],
   "id": "665c246c82bf65f8",
   "outputs": [
    {
     "data": {
      "text/plain": [
       "Matrix([\n",
       "[1, 0],\n",
       "[0, 1]])"
      ],
      "text/latex": "$\\displaystyle \\left[\\begin{matrix}1 & 0\\\\0 & 1\\end{matrix}\\right]$"
     },
     "execution_count": 85,
     "metadata": {},
     "output_type": "execute_result"
    }
   ],
   "execution_count": 85
  },
  {
   "metadata": {
    "ExecuteTime": {
     "end_time": "2025-03-04T11:25:31.331112Z",
     "start_time": "2025-03-04T11:25:31.324723Z"
    }
   },
   "cell_type": "code",
   "source": [
    "l = sp.symbols('l')\n",
    "A - l * E"
   ],
   "id": "fc88c7b7e4a360d1",
   "outputs": [
    {
     "data": {
      "text/plain": [
       "Matrix([\n",
       "[1 - l,     4],\n",
       "[    9, 1 - l]])"
      ],
      "text/latex": "$\\displaystyle \\left[\\begin{matrix}1 - l & 4\\\\9 & 1 - l\\end{matrix}\\right]$"
     },
     "execution_count": 86,
     "metadata": {},
     "output_type": "execute_result"
    }
   ],
   "execution_count": 86
  },
  {
   "metadata": {
    "ExecuteTime": {
     "end_time": "2025-03-04T11:25:31.418172Z",
     "start_time": "2025-03-04T11:25:31.412566Z"
    }
   },
   "cell_type": "code",
   "source": [
    "func = sp.Eq(sp.det(A - l * E), 0)\n",
    "func"
   ],
   "id": "b1df4acc87358a8a",
   "outputs": [
    {
     "data": {
      "text/plain": [
       "Eq(l**2 - 2*l - 35, 0)"
      ],
      "text/latex": "$\\displaystyle l^{2} - 2 l - 35 = 0$"
     },
     "execution_count": 87,
     "metadata": {},
     "output_type": "execute_result"
    }
   ],
   "execution_count": 87
  },
  {
   "metadata": {
    "ExecuteTime": {
     "end_time": "2025-03-04T11:25:31.473134Z",
     "start_time": "2025-03-04T11:25:31.465624Z"
    }
   },
   "cell_type": "code",
   "source": [
    "solution = sp.solve(func, l)\n",
    "solution"
   ],
   "id": "887225dfb5e664be",
   "outputs": [
    {
     "data": {
      "text/plain": [
       "[-5, 7]"
      ]
     },
     "execution_count": 88,
     "metadata": {},
     "output_type": "execute_result"
    }
   ],
   "execution_count": 88
  },
  {
   "metadata": {},
   "cell_type": "markdown",
   "source": [
    "---\n",
    "---"
   ],
   "id": "9ec0467a85be6169"
  },
  {
   "metadata": {},
   "cell_type": "code",
   "outputs": [],
   "execution_count": null,
   "source": "",
   "id": "33ae56073d3593e7"
  }
 ],
 "metadata": {
  "kernelspec": {
   "display_name": "Python 3",
   "language": "python",
   "name": "python3"
  },
  "language_info": {
   "codemirror_mode": {
    "name": "ipython",
    "version": 2
   },
   "file_extension": ".py",
   "mimetype": "text/x-python",
   "name": "python",
   "nbconvert_exporter": "python",
   "pygments_lexer": "ipython2",
   "version": "2.7.6"
  }
 },
 "nbformat": 4,
 "nbformat_minor": 5
}
