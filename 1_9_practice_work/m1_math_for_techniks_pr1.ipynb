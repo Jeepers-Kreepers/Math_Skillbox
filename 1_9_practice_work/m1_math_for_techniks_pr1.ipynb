{
 "cells": [
  {
   "metadata": {},
   "cell_type": "markdown",
   "source": [
    "---\n",
    "Видео 2\n",
    "-\n",
    "---\n",
    "**Задача 1**\n",
    "Даны векторы $\\vec{a} = \\begin{bmatrix}\n",
    "    1 \\\\ 2 \\\\ 3\n",
    "\\end{bmatrix}$,\n",
    "$\\vec{b} = \\begin{bmatrix}\n",
    "    -5 \\\\ -1 \\\\ 6\n",
    "\\end{bmatrix}$, $\\vec{c} = \\begin{bmatrix}\n",
    "    -1 \\\\ 3 \\\\ 9\n",
    "\\end{bmatrix}$.\n",
    "\n",
    "Найдите результат вычисления: $3\\vec{a} + 2\\vec{b} - 4\\vec{c}$."
   ],
   "id": "1a5504d9e483c1ab"
  },
  {
   "metadata": {
    "ExecuteTime": {
     "end_time": "2025-03-04T15:30:49.942315Z",
     "start_time": "2025-03-04T15:30:49.936844Z"
    }
   },
   "cell_type": "code",
   "source": [
    "# Решение\n",
    "import sympy as sp\n",
    "\n",
    "a = sp.Matrix([1, 2, 3])\n",
    "b = sp.Matrix([-5, -1, 6])\n",
    "c = sp.Matrix([-1, 3, 9])\n",
    "\n",
    "3 * a + 2 * b - 4 * c"
   ],
   "id": "59b8b5b62387454a",
   "outputs": [
    {
     "data": {
      "text/plain": [
       "Matrix([\n",
       "[ -3],\n",
       "[ -8],\n",
       "[-15]])"
      ],
      "text/latex": "$\\displaystyle \\left[\\begin{matrix}-3\\\\-8\\\\-15\\end{matrix}\\right]$"
     },
     "execution_count": 223,
     "metadata": {},
     "output_type": "execute_result"
    }
   ],
   "execution_count": 223
  },
  {
   "metadata": {},
   "cell_type": "markdown",
   "source": [
    "---\n",
    "**Задача 2**\n",
    "\n",
    "Даны точки $\\mathbf{A}(3,-2)$ и $\\mathbf{B}(1,4)$. Точка $\\mathbf{M}$ лежит на прямой $\\mathbf{AB}$ так, что\n",
    "$|\\mathbf{AM}| = 3|\\mathbf{AB}|$. Найдите координаты точки $ \\mathbf{M}$, если точки $ \\mathbf{M}$ и $ \\mathbf{B}$ лежат по одну сторону от A."
   ],
   "id": "497c7a05d0e0d215"
  },
  {
   "metadata": {
    "ExecuteTime": {
     "end_time": "2025-03-04T15:30:50.009690Z",
     "start_time": "2025-03-04T15:30:50.004587Z"
    }
   },
   "cell_type": "code",
   "source": [
    "a = sp.Matrix([3, -2])  # координаты точки A\n",
    "b = sp.Matrix([1, 4])  # координаты точки B\n",
    "ab = b - a  # вектор AB\n",
    "m = a + 3 * ab  # координаты точки M\n",
    "m"
   ],
   "id": "abe27b8b74085a7b",
   "outputs": [
    {
     "data": {
      "text/plain": [
       "Matrix([\n",
       "[-3],\n",
       "[16]])"
      ],
      "text/latex": "$\\displaystyle \\left[\\begin{matrix}-3\\\\16\\end{matrix}\\right]$"
     },
     "execution_count": 224,
     "metadata": {},
     "output_type": "execute_result"
    }
   ],
   "execution_count": 224
  },
  {
   "metadata": {},
   "cell_type": "markdown",
   "source": [
    "---\n",
    "Видео 4\n",
    "-\n",
    "---\n",
    "- **Задача 1**\n",
    "\n",
    "Найдите векторное произведение двух векторов:\n",
    "    \\begin{align*}\n",
    "        \\vec{a} = \\begin{bmatrix}-5\\\\3\\\\8\\end{bmatrix},\\ \\vec{b} = \\begin{bmatrix}2\\\\5\\\\1\\end{bmatrix} \\\\\n",
    "         \\end{align*}"
   ],
   "id": "680e3ae1c6bad5f"
  },
  {
   "metadata": {
    "ExecuteTime": {
     "end_time": "2025-03-04T15:30:50.082880Z",
     "start_time": "2025-03-04T15:30:50.078067Z"
    }
   },
   "cell_type": "code",
   "source": [
    "a = sp.Matrix([-5, 3, 8])\n",
    "b = sp.Matrix([2, 5, 1])\n",
    "\n",
    "a.cross(b)"
   ],
   "id": "2e19fa085269eb2f",
   "outputs": [
    {
     "data": {
      "text/plain": [
       "Matrix([\n",
       "[-37],\n",
       "[ 21],\n",
       "[-31]])"
      ],
      "text/latex": "$\\displaystyle \\left[\\begin{matrix}-37\\\\21\\\\-31\\end{matrix}\\right]$"
     },
     "execution_count": 225,
     "metadata": {},
     "output_type": "execute_result"
    }
   ],
   "execution_count": 225
  },
  {
   "metadata": {},
   "cell_type": "markdown",
   "source": [
    "**Задача 2**\n",
    "\n",
    "Упростите выражение:\n",
    "    \\begin{align*}\n",
    "        (\\vec{a} + \\vec{b} ) \\times (\\vec{a} - \\vec{b})\n",
    "    \\end{align*}"
   ],
   "id": "96d89d382c416365"
  },
  {
   "metadata": {
    "ExecuteTime": {
     "end_time": "2025-03-04T15:30:50.136503Z",
     "start_time": "2025-03-04T15:30:50.132580Z"
    }
   },
   "cell_type": "code",
   "source": [
    "a11, a21, a31, b11, b21, b31 = sp.symbols('a11 a21 a31 b11 b21 b31')  # объявление переменных\n",
    "\n",
    "a, b = sp.Matrix([a11, a21, a31]), sp.Matrix([b11, b21, b31])  # объявление векторов"
   ],
   "id": "c809d6cbc19083e3",
   "outputs": [],
   "execution_count": 226
  },
  {
   "metadata": {
    "ExecuteTime": {
     "end_time": "2025-03-04T15:30:50.191016Z",
     "start_time": "2025-03-04T15:30:50.182554Z"
    }
   },
   "cell_type": "code",
   "source": [
    "expr = (a + b).cross(a - b) # выражение до упрощения\n",
    "expr"
   ],
   "id": "fbbf17652cb63165",
   "outputs": [
    {
     "data": {
      "text/plain": [
       "Matrix([\n",
       "[-(a21 - b21)*(a31 + b31) + (a21 + b21)*(a31 - b31)],\n",
       "[ (a11 - b11)*(a31 + b31) - (a11 + b11)*(a31 - b31)],\n",
       "[-(a11 - b11)*(a21 + b21) + (a11 + b11)*(a21 - b21)]])"
      ],
      "text/latex": "$\\displaystyle \\left[\\begin{matrix}- \\left(a_{21} - b_{21}\\right) \\left(a_{31} + b_{31}\\right) + \\left(a_{21} + b_{21}\\right) \\left(a_{31} - b_{31}\\right)\\\\\\left(a_{11} - b_{11}\\right) \\left(a_{31} + b_{31}\\right) - \\left(a_{11} + b_{11}\\right) \\left(a_{31} - b_{31}\\right)\\\\- \\left(a_{11} - b_{11}\\right) \\left(a_{21} + b_{21}\\right) + \\left(a_{11} + b_{11}\\right) \\left(a_{21} - b_{21}\\right)\\end{matrix}\\right]$"
     },
     "execution_count": 227,
     "metadata": {},
     "output_type": "execute_result"
    }
   ],
   "execution_count": 227
  },
  {
   "metadata": {
    "ExecuteTime": {
     "end_time": "2025-03-04T15:30:50.255941Z",
     "start_time": "2025-03-04T15:30:50.244657Z"
    }
   },
   "cell_type": "code",
   "source": [
    "expr = sp.expand((a + b).cross(a - b)) # упрощенное выражение\n",
    "expr"
   ],
   "id": "4cfc834efd909bcc",
   "outputs": [
    {
     "data": {
      "text/plain": [
       "Matrix([\n",
       "[-2*a21*b31 + 2*a31*b21],\n",
       "[ 2*a11*b31 - 2*a31*b11],\n",
       "[-2*a11*b21 + 2*a21*b11]])"
      ],
      "text/latex": "$\\displaystyle \\left[\\begin{matrix}- 2 a_{21} b_{31} + 2 a_{31} b_{21}\\\\2 a_{11} b_{31} - 2 a_{31} b_{11}\\\\- 2 a_{11} b_{21} + 2 a_{21} b_{11}\\end{matrix}\\right]$"
     },
     "execution_count": 228,
     "metadata": {},
     "output_type": "execute_result"
    }
   ],
   "execution_count": 228
  },
  {
   "metadata": {},
   "cell_type": "markdown",
   "source": "---",
   "id": "b48d061e923ca021"
  },
  {
   "metadata": {},
   "cell_type": "markdown",
   "source": [
    "**Задача 3**\n",
    "\n",
    "Все три вектора $\\vec{a}, \\vec{b},\\vec{c}$ имеют длину $3$, и $\\vec{a} + \\vec{b} + \\vec{c} = \\vec{0}$.\n",
    "\n",
    "Найдите результат вычисления: $\\vec{a} \\cdot \\vec{b} + \\vec{b} \\cdot \\vec{c} + \\vec{c} \\cdot \\vec{a}$.\n",
    "\n",
    "*Подсказка: необходимо нарисовать этот случай (треугольник)*."
   ],
   "id": "b65605fd9a812a92"
  },
  {
   "metadata": {
    "ExecuteTime": {
     "end_time": "2025-03-04T15:30:50.314582Z",
     "start_time": "2025-03-04T15:30:50.307083Z"
    }
   },
   "cell_type": "code",
   "source": [
    "import sympy as sp\n",
    "# import numpy as np\n",
    "from scipy.optimize import fsolve\n",
    "\n",
    "# Определяем символы для компонент векторов\n",
    "a1, a2, a3, b1, b2, b3 = sp.symbols('a1 a2 a3 b1 b2 b3')\n",
    "angle  = sp.symbols('angle')\n",
    "angle = sp.pi - sp.pi/3\n",
    "\n",
    "# Определяем векторы a и b\n",
    "a = sp.Matrix([a1, a2, a3])\n",
    "b = sp.Matrix([b1, b2, b3])\n",
    "\n",
    "# Вычисляем c из условия a + b + c = 0\n",
    "c = -a - b\n",
    "c1 = c[0]\n",
    "c2 = c[1]\n",
    "c3 = c[2]\n",
    "c"
   ],
   "id": "5d35d2aa4838f96e",
   "outputs": [
    {
     "data": {
      "text/plain": [
       "Matrix([\n",
       "[-a1 - b1],\n",
       "[-a2 - b2],\n",
       "[-a3 - b3]])"
      ],
      "text/latex": "$\\displaystyle \\left[\\begin{matrix}- a_{1} - b_{1}\\\\- a_{2} - b_{2}\\\\- a_{3} - b_{3}\\end{matrix}\\right]$"
     },
     "execution_count": 229,
     "metadata": {},
     "output_type": "execute_result"
    }
   ],
   "execution_count": 229
  },
  {
   "metadata": {
    "ExecuteTime": {
     "end_time": "2025-03-04T15:30:50.377956Z",
     "start_time": "2025-03-04T15:30:50.370215Z"
    }
   },
   "cell_type": "code",
   "source": [
    "dot_ab = a.dot(b)\n",
    "dot_bc = b.dot(c)\n",
    "dot_ca = c.dot(a)\n",
    "\n",
    "# Сумма скалярных произведений (символьное выражение)\n",
    "result = dot_ab + dot_bc + dot_ca\n",
    "result"
   ],
   "id": "b7d57514c77dbdf5",
   "outputs": [
    {
     "data": {
      "text/plain": [
       "a1*b1 + a1*(-a1 - b1) + a2*b2 + a2*(-a2 - b2) + a3*b3 + a3*(-a3 - b3) + b1*(-a1 - b1) + b2*(-a2 - b2) + b3*(-a3 - b3)"
      ],
      "text/latex": "$\\displaystyle a_{1} b_{1} + a_{1} \\left(- a_{1} - b_{1}\\right) + a_{2} b_{2} + a_{2} \\left(- a_{2} - b_{2}\\right) + a_{3} b_{3} + a_{3} \\left(- a_{3} - b_{3}\\right) + b_{1} \\left(- a_{1} - b_{1}\\right) + b_{2} \\left(- a_{2} - b_{2}\\right) + b_{3} \\left(- a_{3} - b_{3}\\right)$"
     },
     "execution_count": 230,
     "metadata": {},
     "output_type": "execute_result"
    }
   ],
   "execution_count": 230
  },
  {
   "metadata": {
    "ExecuteTime": {
     "end_time": "2025-03-04T15:30:50.428869Z",
     "start_time": "2025-03-04T15:30:50.424015Z"
    }
   },
   "cell_type": "code",
   "source": [
    "mod_a = mod_b = mod_c = 3\n",
    "dot_ab = mod_a * mod_b * sp.cos(angle)\n",
    "dot_bc = mod_b * mod_c * sp.cos(angle)\n",
    "dot_ca = mod_c * mod_a * sp.cos(angle)\n",
    "\n",
    "# Сумма скалярных произведений (числовое значение)\n",
    "result_num = dot_ab + dot_bc + dot_ca\n",
    "result_num"
   ],
   "id": "15b1636bdafc5941",
   "outputs": [
    {
     "data": {
      "text/plain": [
       "-27/2"
      ],
      "text/latex": "$\\displaystyle - \\frac{27}{2}$"
     },
     "execution_count": 231,
     "metadata": {},
     "output_type": "execute_result"
    }
   ],
   "execution_count": 231
  },
  {
   "metadata": {},
   "cell_type": "markdown",
   "source": [
    "---\n",
    "Видео 6\n",
    "-\n",
    "---\n",
    "**Задача 1:**\n",
    "\n",
    "Даны $A=\\begin{bmatrix} 2 & -1 & -1\\end{bmatrix}$ и $B=\\begin{bmatrix} -2 \\\\ -1 \\\\ 3 \\end{bmatrix}$.\n",
    "\n",
    "1. Найдите $AB$ и $BA$, если они существуют.\n",
    "2. Найдите $A^TB$ и $BA^T$, если они существуют."
   ],
   "id": "fd4f727d546971b5"
  },
  {
   "metadata": {
    "ExecuteTime": {
     "end_time": "2025-03-04T15:30:50.479159Z",
     "start_time": "2025-03-04T15:30:50.474179Z"
    }
   },
   "cell_type": "code",
   "source": [
    "a = sp.Matrix([[2, -1, -1]])\n",
    "b = sp.Matrix([-2, -1, 3])\n",
    "a"
   ],
   "id": "74b51eac4aeab1f9",
   "outputs": [
    {
     "data": {
      "text/plain": [
       "Matrix([[2, -1, -1]])"
      ],
      "text/latex": "$\\displaystyle \\left[\\begin{matrix}2 & -1 & -1\\end{matrix}\\right]$"
     },
     "execution_count": 232,
     "metadata": {},
     "output_type": "execute_result"
    }
   ],
   "execution_count": 232
  },
  {
   "metadata": {
    "ExecuteTime": {
     "end_time": "2025-03-04T15:30:50.528720Z",
     "start_time": "2025-03-04T15:30:50.524084Z"
    }
   },
   "cell_type": "code",
   "source": "b",
   "id": "52bde9aaea76de1f",
   "outputs": [
    {
     "data": {
      "text/plain": [
       "Matrix([\n",
       "[-2],\n",
       "[-1],\n",
       "[ 3]])"
      ],
      "text/latex": "$\\displaystyle \\left[\\begin{matrix}-2\\\\-1\\\\3\\end{matrix}\\right]$"
     },
     "execution_count": 233,
     "metadata": {},
     "output_type": "execute_result"
    }
   ],
   "execution_count": 233
  },
  {
   "metadata": {
    "ExecuteTime": {
     "end_time": "2025-03-04T15:30:50.589471Z",
     "start_time": "2025-03-04T15:30:50.584391Z"
    }
   },
   "cell_type": "code",
   "source": "a * b",
   "id": "6d8c76c35e7d80d5",
   "outputs": [
    {
     "data": {
      "text/plain": [
       "Matrix([[-6]])"
      ],
      "text/latex": "$\\displaystyle \\left[\\begin{matrix}-6\\end{matrix}\\right]$"
     },
     "execution_count": 234,
     "metadata": {},
     "output_type": "execute_result"
    }
   ],
   "execution_count": 234
  },
  {
   "metadata": {
    "ExecuteTime": {
     "end_time": "2025-03-04T15:30:50.639454Z",
     "start_time": "2025-03-04T15:30:50.634523Z"
    }
   },
   "cell_type": "code",
   "source": "b * a",
   "id": "fa8c6bb4e6d8f755",
   "outputs": [
    {
     "data": {
      "text/plain": [
       "Matrix([\n",
       "[-4,  2,  2],\n",
       "[-2,  1,  1],\n",
       "[ 6, -3, -3]])"
      ],
      "text/latex": "$\\displaystyle \\left[\\begin{matrix}-4 & 2 & 2\\\\-2 & 1 & 1\\\\6 & -3 & -3\\end{matrix}\\right]$"
     },
     "execution_count": 235,
     "metadata": {},
     "output_type": "execute_result"
    }
   ],
   "execution_count": 235
  },
  {
   "metadata": {
    "ExecuteTime": {
     "end_time": "2025-03-04T15:30:50.708745Z",
     "start_time": "2025-03-04T15:30:50.704068Z"
    }
   },
   "cell_type": "code",
   "source": "a.T # транспонированный вектор A^T",
   "id": "7a81c2e6b1b744e6",
   "outputs": [
    {
     "data": {
      "text/plain": [
       "Matrix([\n",
       "[ 2],\n",
       "[-1],\n",
       "[-1]])"
      ],
      "text/latex": "$\\displaystyle \\left[\\begin{matrix}2\\\\-1\\\\-1\\end{matrix}\\right]$"
     },
     "execution_count": 236,
     "metadata": {},
     "output_type": "execute_result"
    }
   ],
   "execution_count": 236
  },
  {
   "metadata": {
    "ExecuteTime": {
     "end_time": "2025-03-04T15:30:50.770696Z",
     "start_time": "2025-03-04T15:30:50.765642Z"
    }
   },
   "cell_type": "code",
   "source": "b.T # b.T - транспонированный вектор B^T",
   "id": "c1b94abebbbc5ba0",
   "outputs": [
    {
     "data": {
      "text/plain": [
       "Matrix([[-2, -1, 3]])"
      ],
      "text/latex": "$\\displaystyle \\left[\\begin{matrix}-2 & -1 & 3\\end{matrix}\\right]$"
     },
     "execution_count": 237,
     "metadata": {},
     "output_type": "execute_result"
    }
   ],
   "execution_count": 237
  },
  {
   "metadata": {},
   "cell_type": "markdown",
   "source": "$A^TB$ и $BA^T$ невозможно,  так как размерности матриц не совпадают.",
   "id": "28b83ea25266ec0f"
  },
  {
   "metadata": {},
   "cell_type": "markdown",
   "source": [
    "---\n",
    "**Задача 2**\n",
    "\n",
    "Дана матрица $A = \\begin{bmatrix} 1 & 4 \\\\ 9 & 1\\end{bmatrix}$.\n",
    "\n",
    "Найдите $l$, если определитель $A - El$ равен $0$, где $E$ — единичная матрица."
   ],
   "id": "4756f52df07d43d0"
  },
  {
   "metadata": {
    "ExecuteTime": {
     "end_time": "2025-03-04T15:30:50.826023Z",
     "start_time": "2025-03-04T15:30:50.822781Z"
    }
   },
   "cell_type": "code",
   "source": "A = sp.Matrix([[1, 4], [9, 1]])",
   "id": "5166c22e882deb0e",
   "outputs": [],
   "execution_count": 238
  },
  {
   "metadata": {
    "ExecuteTime": {
     "end_time": "2025-03-04T15:30:50.878308Z",
     "start_time": "2025-03-04T15:30:50.873936Z"
    }
   },
   "cell_type": "code",
   "source": [
    "E = sp.eye(2) # единичная матрица 2x2\n",
    "E"
   ],
   "id": "665c246c82bf65f8",
   "outputs": [
    {
     "data": {
      "text/plain": [
       "Matrix([\n",
       "[1, 0],\n",
       "[0, 1]])"
      ],
      "text/latex": "$\\displaystyle \\left[\\begin{matrix}1 & 0\\\\0 & 1\\end{matrix}\\right]$"
     },
     "execution_count": 239,
     "metadata": {},
     "output_type": "execute_result"
    }
   ],
   "execution_count": 239
  },
  {
   "metadata": {
    "ExecuteTime": {
     "end_time": "2025-03-04T15:30:50.928545Z",
     "start_time": "2025-03-04T15:30:50.923484Z"
    }
   },
   "cell_type": "code",
   "source": [
    "l = sp.symbols('l')\n",
    "A - l * E"
   ],
   "id": "fc88c7b7e4a360d1",
   "outputs": [
    {
     "data": {
      "text/plain": [
       "Matrix([\n",
       "[1 - l,     4],\n",
       "[    9, 1 - l]])"
      ],
      "text/latex": "$\\displaystyle \\left[\\begin{matrix}1 - l & 4\\\\9 & 1 - l\\end{matrix}\\right]$"
     },
     "execution_count": 240,
     "metadata": {},
     "output_type": "execute_result"
    }
   ],
   "execution_count": 240
  },
  {
   "metadata": {
    "ExecuteTime": {
     "end_time": "2025-03-04T15:30:50.979901Z",
     "start_time": "2025-03-04T15:30:50.974153Z"
    }
   },
   "cell_type": "code",
   "source": [
    "func = sp.Eq(sp.det(A - l * E), 0)\n",
    "func"
   ],
   "id": "b1df4acc87358a8a",
   "outputs": [
    {
     "data": {
      "text/plain": [
       "Eq(l**2 - 2*l - 35, 0)"
      ],
      "text/latex": "$\\displaystyle l^{2} - 2 l - 35 = 0$"
     },
     "execution_count": 241,
     "metadata": {},
     "output_type": "execute_result"
    }
   ],
   "execution_count": 241
  },
  {
   "metadata": {
    "ExecuteTime": {
     "end_time": "2025-03-04T15:30:51.042007Z",
     "start_time": "2025-03-04T15:30:51.034751Z"
    }
   },
   "cell_type": "code",
   "source": [
    "solution = sp.solve(func, l)\n",
    "solution"
   ],
   "id": "887225dfb5e664be",
   "outputs": [
    {
     "data": {
      "text/plain": [
       "[-5, 7]"
      ]
     },
     "execution_count": 242,
     "metadata": {},
     "output_type": "execute_result"
    }
   ],
   "execution_count": 242
  },
  {
   "metadata": {},
   "cell_type": "markdown",
   "source": [
    "---\n",
    "Видео 8\n",
    "-\n",
    "---\n",
    "**Задача 1:**\n",
    "\n",
    "Вычислите ранг матрицы $\\begin{bmatrix}1&2\\\\2&4\\\\1&1\\end{bmatrix}$ с помощью функции $rank()$ и c помощью $rref()$."
   ],
   "id": "9ec0467a85be6169"
  },
  {
   "metadata": {
    "ExecuteTime": {
     "end_time": "2025-03-04T15:30:51.099858Z",
     "start_time": "2025-03-04T15:30:51.094857Z"
    }
   },
   "cell_type": "code",
   "source": [
    "V = sp.Matrix([[1, 2], [2, 4], [1, 1]])\n",
    "V"
   ],
   "id": "fe598696a8c580e0",
   "outputs": [
    {
     "data": {
      "text/plain": [
       "Matrix([\n",
       "[1, 2],\n",
       "[2, 4],\n",
       "[1, 1]])"
      ],
      "text/latex": "$\\displaystyle \\left[\\begin{matrix}1 & 2\\\\2 & 4\\\\1 & 1\\end{matrix}\\right]$"
     },
     "execution_count": 243,
     "metadata": {},
     "output_type": "execute_result"
    }
   ],
   "execution_count": 243
  },
  {
   "metadata": {
    "ExecuteTime": {
     "end_time": "2025-03-04T15:30:51.160997Z",
     "start_time": "2025-03-04T15:30:51.156379Z"
    }
   },
   "cell_type": "code",
   "source": "V.rank() # Ранг матрицы V",
   "id": "43a9023061d8917a",
   "outputs": [
    {
     "data": {
      "text/plain": [
       "2"
      ]
     },
     "execution_count": 244,
     "metadata": {},
     "output_type": "execute_result"
    }
   ],
   "execution_count": 244
  },
  {
   "metadata": {
    "ExecuteTime": {
     "end_time": "2025-03-04T15:30:51.222466Z",
     "start_time": "2025-03-04T15:30:51.218063Z"
    }
   },
   "cell_type": "code",
   "source": "V.rref()[0] # Приведение матрицы V к ступенчатому виду",
   "id": "bf5d18e0df31e6c9",
   "outputs": [
    {
     "data": {
      "text/plain": [
       "Matrix([\n",
       "[1, 0],\n",
       "[0, 1],\n",
       "[0, 0]])"
      ],
      "text/latex": "$\\displaystyle \\left[\\begin{matrix}1 & 0\\\\0 & 1\\\\0 & 0\\end{matrix}\\right]$"
     },
     "execution_count": 245,
     "metadata": {},
     "output_type": "execute_result"
    }
   ],
   "execution_count": 245
  },
  {
   "metadata": {},
   "cell_type": "markdown",
   "source": [
    "---\n",
    "Видео 9\n",
    "-\n",
    "---\n",
    "**Задача 1:**\n",
    "\n",
    "Решите систему линейных уравнений:\n",
    "1) $\\begin{bmatrix}2&5\\\\1&3\\end{bmatrix}X=\\begin{bmatrix}2&1\\\\1&1\\end{bmatrix}$; \\\\\n",
    "2)  $X\\begin{bmatrix}2&5\\\\1&3\\end{bmatrix}=\\begin{bmatrix}2&1\\\\1&1\\end{bmatrix}$;"
   ],
   "id": "8034dc868993a4c7"
  },
  {
   "metadata": {
    "ExecuteTime": {
     "end_time": "2025-03-04T15:30:51.296949Z",
     "start_time": "2025-03-04T15:30:51.284802Z"
    }
   },
   "cell_type": "code",
   "source": [
    "import sympy as sp\n",
    "\n",
    "# 1) (2 5) (x11 x12) = (2 1)\n",
    "#    (1 3) (x21 x22) = (1 1)\n",
    "\n",
    "# Определяем символы для элементов матрицы X\n",
    "x11, x12, x21, x22 = sp.symbols('x11 x12 x21 x22')\n",
    "\n",
    "# Определяем матрицы\n",
    "A = sp.Matrix([[2, 5], [1, 3]])\n",
    "B = sp.Matrix([[2, 1], [1, 1]])\n",
    "X = sp.Matrix([[x11, x12], [x21, x22]])\n",
    "\n",
    "# Решаем систему уравнений\n",
    "equation_x_right = sp.Eq(A * X, B)\n",
    "equation_x_left = sp.Eq(X * A, B)\n",
    "\n",
    "solution_x_right = sp.solve(equation_x_right, (x11, x12, x21, x22))\n",
    "solution_x_left = sp.solve(equation_x_left, (x11, x12, x21, x22))\n",
    "\n",
    "print(f\"Решение системы A * X = B: {solution_x_right}\")\n",
    "print(f\"Решение системы X * A = B: {solution_x_left}\")"
   ],
   "id": "12fc82081b0cc1bf",
   "outputs": [
    {
     "name": "stdout",
     "output_type": "stream",
     "text": [
      "Решение системы A * X = B: {x11: 1, x12: -2, x21: 0, x22: 1}\n",
      "Решение системы X * A = B: {x11: 5, x12: -8, x21: 2, x22: -3}\n"
     ]
    }
   ],
   "execution_count": 246
  },
  {
   "metadata": {},
   "cell_type": "markdown",
   "source": [
    "**Задача 2**\n",
    "\n",
    "Найдите значения $AA^+$, $AA^+A$ и $A^+A$, если $A=\\begin{bmatrix}3 \\\\ 7 \\\\ 2\\end{bmatrix}$."
   ],
   "id": "3f160a9810ec570b"
  },
  {
   "metadata": {
    "ExecuteTime": {
     "end_time": "2025-03-04T15:30:51.350528Z",
     "start_time": "2025-03-04T15:30:51.345697Z"
    }
   },
   "cell_type": "code",
   "source": [
    "A = sp.Matrix([3, 7, 2])\n",
    "A"
   ],
   "id": "943c692327bbed8a",
   "outputs": [
    {
     "data": {
      "text/plain": [
       "Matrix([\n",
       "[3],\n",
       "[7],\n",
       "[2]])"
      ],
      "text/latex": "$\\displaystyle \\left[\\begin{matrix}3\\\\7\\\\2\\end{matrix}\\right]$"
     },
     "execution_count": 247,
     "metadata": {},
     "output_type": "execute_result"
    }
   ],
   "execution_count": 247
  },
  {
   "metadata": {
    "ExecuteTime": {
     "end_time": "2025-03-04T15:30:51.419181Z",
     "start_time": "2025-03-04T15:30:51.413668Z"
    }
   },
   "cell_type": "code",
   "source": [
    "a_a_inv = A * sp.Matrix.pinv(A) # A * A+\n",
    "a_a_inv"
   ],
   "id": "b78532b710bf7a3b",
   "outputs": [
    {
     "data": {
      "text/plain": [
       "Matrix([\n",
       "[ 9/62, 21/62, 3/31],\n",
       "[21/62, 49/62, 7/31],\n",
       "[ 3/31,  7/31, 2/31]])"
      ],
      "text/latex": "$\\displaystyle \\left[\\begin{matrix}\\frac{9}{62} & \\frac{21}{62} & \\frac{3}{31}\\\\\\frac{21}{62} & \\frac{49}{62} & \\frac{7}{31}\\\\\\frac{3}{31} & \\frac{7}{31} & \\frac{2}{31}\\end{matrix}\\right]$"
     },
     "execution_count": 248,
     "metadata": {},
     "output_type": "execute_result"
    }
   ],
   "execution_count": 248
  },
  {
   "metadata": {
    "ExecuteTime": {
     "end_time": "2025-03-04T15:30:51.480542Z",
     "start_time": "2025-03-04T15:30:51.474739Z"
    }
   },
   "cell_type": "code",
   "source": [
    "a_a_inv_a = A * sp.Matrix.pinv(A) * A # A * A+ * A\n",
    "a_a_inv_a"
   ],
   "id": "fef7705824bc7a67",
   "outputs": [
    {
     "data": {
      "text/plain": [
       "Matrix([\n",
       "[3],\n",
       "[7],\n",
       "[2]])"
      ],
      "text/latex": "$\\displaystyle \\left[\\begin{matrix}3\\\\7\\\\2\\end{matrix}\\right]$"
     },
     "execution_count": 249,
     "metadata": {},
     "output_type": "execute_result"
    }
   ],
   "execution_count": 249
  },
  {
   "metadata": {
    "ExecuteTime": {
     "end_time": "2025-03-04T15:30:51.543Z",
     "start_time": "2025-03-04T15:30:51.537254Z"
    }
   },
   "cell_type": "code",
   "source": [
    "a_inv_a = sp.Matrix.pinv(A) * A # A+ * A\n",
    "a_inv_a"
   ],
   "id": "33ec7e415815541d",
   "outputs": [
    {
     "data": {
      "text/plain": [
       "Matrix([[1]])"
      ],
      "text/latex": "$\\displaystyle \\left[\\begin{matrix}1\\end{matrix}\\right]$"
     },
     "execution_count": 250,
     "metadata": {},
     "output_type": "execute_result"
    }
   ],
   "execution_count": 250
  },
  {
   "metadata": {},
   "cell_type": "markdown",
   "source": [
    "---\n",
    "Видео 9\n",
    "-\n",
    "---\n",
    "**Задача 1**\n",
    "\n",
    "Решите уравнения:\n",
    "\n",
    "1) $x^2 + 2x + 4 =0$\n",
    "2) $\\bar{x} = 2 + 2x$"
   ],
   "id": "7f744c3b4719e4e6"
  },
  {
   "metadata": {
    "ExecuteTime": {
     "end_time": "2025-03-04T16:44:22.233840Z",
     "start_time": "2025-03-04T16:44:22.214067Z"
    }
   },
   "cell_type": "code",
   "source": [
    "# Решение 1\n",
    "x = sp.Symbol('x')\n",
    "\n",
    "quad_equation = x**2 + 2 * x + 4\n",
    "\n",
    "sp.Eq(quad_equation, 0)\n",
    "\n",
    "solution = sp.solve(quad_equation, x)\n",
    "solution[0]"
   ],
   "id": "e4eab344ba2b53bc",
   "outputs": [
    {
     "data": {
      "text/plain": [
       "-1 - sqrt(3)*I"
      ],
      "text/latex": "$\\displaystyle -1 - \\sqrt{3} i$"
     },
     "execution_count": 255,
     "metadata": {},
     "output_type": "execute_result"
    }
   ],
   "execution_count": 255
  },
  {
   "metadata": {
    "ExecuteTime": {
     "end_time": "2025-03-04T15:30:51.669776Z",
     "start_time": "2025-03-04T15:30:51.664271Z"
    }
   },
   "cell_type": "code",
   "source": "solution[1]",
   "id": "7dd96bec2a26f029",
   "outputs": [
    {
     "data": {
      "text/plain": [
       "-1 + sqrt(3)*I"
      ],
      "text/latex": "$\\displaystyle -1 + \\sqrt{3} i$"
     },
     "execution_count": 252,
     "metadata": {},
     "output_type": "execute_result"
    }
   ],
   "execution_count": 252
  },
  {
   "metadata": {
    "ExecuteTime": {
     "end_time": "2025-03-04T16:37:55.694313Z",
     "start_time": "2025-03-04T16:37:55.669582Z"
    }
   },
   "cell_type": "code",
   "source": [
    "# Решение 2\n",
    "\n",
    "x = sp.symbols('x')\n",
    "x_conj = sp.conjugate(x) # Сопряженное комплексное число\n",
    "\n",
    "equation = sp.Eq(x_conj, 2 + 2*x)\n",
    "\n",
    "solution = sp.solve(equation, x)\n",
    "print(solution)"
   ],
   "id": "a972932fdba1e087",
   "outputs": [
    {
     "name": "stdout",
     "output_type": "stream",
     "text": [
      "[-2]\n"
     ]
    }
   ],
   "execution_count": 253
  },
  {
   "metadata": {},
   "cell_type": "code",
   "outputs": [],
   "execution_count": null,
   "source": "",
   "id": "cd7f5dcef488affc"
  }
 ],
 "metadata": {
  "kernelspec": {
   "display_name": "Python 3",
   "language": "python",
   "name": "python3"
  },
  "language_info": {
   "codemirror_mode": {
    "name": "ipython",
    "version": 2
   },
   "file_extension": ".py",
   "mimetype": "text/x-python",
   "name": "python",
   "nbconvert_exporter": "python",
   "pygments_lexer": "ipython2",
   "version": "2.7.6"
  }
 },
 "nbformat": 4,
 "nbformat_minor": 5
}
