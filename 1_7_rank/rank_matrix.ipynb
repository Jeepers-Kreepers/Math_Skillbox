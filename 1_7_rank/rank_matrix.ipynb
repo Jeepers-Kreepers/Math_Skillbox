{
 "cells": [
  {
   "metadata": {
    "ExecuteTime": {
     "end_time": "2025-02-11T17:36:10.777496Z",
     "start_time": "2025-02-11T17:36:10.774217Z"
    }
   },
   "cell_type": "code",
   "source": [
    "import sympy as sp\n",
    "\n",
    "\n",
    "V = sp.Matrix([[1, 2, 3], [2, 3, 4], [1, 1, 1]])\n"
   ],
   "id": "a30e119fdd1e2b89",
   "outputs": [],
   "execution_count": 56
  },
  {
   "metadata": {},
   "cell_type": "markdown",
   "source": "Две строки являются линейно независимыми (это и есть ранг матрицы)",
   "id": "236d4d4d603b56fb"
  },
  {
   "metadata": {
    "ExecuteTime": {
     "end_time": "2025-02-11T17:36:10.835519Z",
     "start_time": "2025-02-11T17:36:10.830922Z"
    }
   },
   "cell_type": "code",
   "source": "V",
   "id": "b79e894723bcb280",
   "outputs": [
    {
     "data": {
      "text/plain": [
       "Matrix([\n",
       "[1, 2, 3],\n",
       "[2, 3, 4],\n",
       "[1, 1, 1]])"
      ],
      "text/latex": "$\\displaystyle \\left[\\begin{matrix}1 & 2 & 3\\\\2 & 3 & 4\\\\1 & 1 & 1\\end{matrix}\\right]$"
     },
     "execution_count": 57,
     "metadata": {},
     "output_type": "execute_result"
    }
   ],
   "execution_count": 57
  },
  {
   "metadata": {
    "ExecuteTime": {
     "end_time": "2025-02-11T17:36:10.890038Z",
     "start_time": "2025-02-11T17:36:10.886683Z"
    }
   },
   "cell_type": "code",
   "source": "print(V)",
   "id": "46f523948042cb2e",
   "outputs": [
    {
     "name": "stdout",
     "output_type": "stream",
     "text": [
      "Matrix([[1, 2, 3], [2, 3, 4], [1, 1, 1]])\n"
     ]
    }
   ],
   "execution_count": 58
  },
  {
   "metadata": {
    "ExecuteTime": {
     "end_time": "2025-02-11T17:36:10.947321Z",
     "start_time": "2025-02-11T17:36:10.943034Z"
    }
   },
   "cell_type": "code",
   "source": "V.rank() # ранг матрицы равен 2",
   "id": "eaaa9e1d69e35a2d",
   "outputs": [
    {
     "data": {
      "text/plain": [
       "2"
      ]
     },
     "execution_count": 59,
     "metadata": {},
     "output_type": "execute_result"
    }
   ],
   "execution_count": 59
  },
  {
   "metadata": {},
   "cell_type": "markdown",
   "source": [
    "Матрица \\( Z \\) задана как:\n",
    "\n",
    "\n",
    "\\begin{pmatrix}\n",
    "1 & 2 & 3 \\\\\n",
    "2 & 4 & 6 \\\\\n",
    "3 & 6 & 9\n",
    "\\end{pmatrix}\n",
    "\n",
    "\n",
    "Эта матрица является матрицей размером ( 3 х 3 ). Она состоит из трех строк и трех столбцов.\n",
    "\n",
    "Обратите внимание, что строки (и столбцы) этой матрицы линейно зависимы. Например, вторая строка является удвоенной первой строкой, а третья строка является утроенной первой строкой. Ранг матрицы равен 1."
   ],
   "id": "e5484f0a1cfe0fbe"
  },
  {
   "metadata": {
    "ExecuteTime": {
     "end_time": "2025-02-11T17:36:10.996299Z",
     "start_time": "2025-02-11T17:36:10.993206Z"
    }
   },
   "cell_type": "code",
   "source": "Z = sp.Matrix([[1, 2, 3], [2, 4, 6], [3, 6, 9]])",
   "id": "57bb0f4b6c0acd9e",
   "outputs": [],
   "execution_count": 60
  },
  {
   "metadata": {
    "ExecuteTime": {
     "end_time": "2025-02-11T17:36:11.047895Z",
     "start_time": "2025-02-11T17:36:11.042605Z"
    }
   },
   "cell_type": "code",
   "source": "Z",
   "id": "8ee32b8afdf8fe65",
   "outputs": [
    {
     "data": {
      "text/plain": [
       "Matrix([\n",
       "[1, 2, 3],\n",
       "[2, 4, 6],\n",
       "[3, 6, 9]])"
      ],
      "text/latex": "$\\displaystyle \\left[\\begin{matrix}1 & 2 & 3\\\\2 & 4 & 6\\\\3 & 6 & 9\\end{matrix}\\right]$"
     },
     "execution_count": 61,
     "metadata": {},
     "output_type": "execute_result"
    }
   ],
   "execution_count": 61
  },
  {
   "metadata": {
    "ExecuteTime": {
     "end_time": "2025-02-11T17:36:11.100583Z",
     "start_time": "2025-02-11T17:36:11.094935Z"
    }
   },
   "cell_type": "code",
   "source": "Z.rank() # ранг матрицы равен 1",
   "id": "fea2d117b7a533df",
   "outputs": [
    {
     "data": {
      "text/plain": [
       "1"
      ]
     },
     "execution_count": 62,
     "metadata": {},
     "output_type": "execute_result"
    }
   ],
   "execution_count": 62
  },
  {
   "metadata": {},
   "cell_type": "markdown",
   "source": "Метод Гаусса (Приведение к ступенчатому виду)",
   "id": "d9caf20bdc539e77"
  },
  {
   "metadata": {
    "ExecuteTime": {
     "end_time": "2025-02-11T17:36:11.244985Z",
     "start_time": "2025-02-11T17:36:11.239918Z"
    }
   },
   "cell_type": "code",
   "source": "sp.Matrix.rref(V)[0]",
   "id": "7de464cd7dc29711",
   "outputs": [
    {
     "data": {
      "text/plain": [
       "Matrix([\n",
       "[1, 0, -1],\n",
       "[0, 1,  2],\n",
       "[0, 0,  0]])"
      ],
      "text/latex": "$\\displaystyle \\left[\\begin{matrix}1 & 0 & -1\\\\0 & 1 & 2\\\\0 & 0 & 0\\end{matrix}\\right]$"
     },
     "execution_count": 63,
     "metadata": {},
     "output_type": "execute_result"
    }
   ],
   "execution_count": 63
  },
  {
   "metadata": {
    "ExecuteTime": {
     "end_time": "2025-02-11T17:36:11.297912Z",
     "start_time": "2025-02-11T17:36:11.292994Z"
    }
   },
   "cell_type": "code",
   "source": "sp.Matrix.rref(Z)[0]",
   "id": "7510175ca20e8b1b",
   "outputs": [
    {
     "data": {
      "text/plain": [
       "Matrix([\n",
       "[1, 2, 3],\n",
       "[0, 0, 0],\n",
       "[0, 0, 0]])"
      ],
      "text/latex": "$\\displaystyle \\left[\\begin{matrix}1 & 2 & 3\\\\0 & 0 & 0\\\\0 & 0 & 0\\end{matrix}\\right]$"
     },
     "execution_count": 64,
     "metadata": {},
     "output_type": "execute_result"
    }
   ],
   "execution_count": 64
  }
 ],
 "metadata": {
  "kernelspec": {
   "display_name": "Python 3",
   "language": "python",
   "name": "python3"
  },
  "language_info": {
   "codemirror_mode": {
    "name": "ipython",
    "version": 2
   },
   "file_extension": ".py",
   "mimetype": "text/x-python",
   "name": "python",
   "nbconvert_exporter": "python",
   "pygments_lexer": "ipython2",
   "version": "2.7.6"
  }
 },
 "nbformat": 4,
 "nbformat_minor": 5
}
