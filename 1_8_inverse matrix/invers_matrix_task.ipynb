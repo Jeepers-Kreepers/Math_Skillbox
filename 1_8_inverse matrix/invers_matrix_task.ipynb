{
 "cells": [
  {
   "cell_type": "code",
   "id": "initial_id",
   "metadata": {
    "collapsed": true,
    "ExecuteTime": {
     "end_time": "2025-02-13T17:29:15.255409Z",
     "start_time": "2025-02-13T17:29:15.249004Z"
    }
   },
   "source": [
    "import sympy as sp\n",
    "\n",
    "A = sp.Matrix([[3, 8], [2, 6]])\n",
    "B = sp.Matrix([[3, 8, 1]])\n",
    "C = sp.Matrix([[2], [15]])\n",
    "A"
   ],
   "outputs": [
    {
     "data": {
      "text/plain": [
       "Matrix([\n",
       "[3, 8],\n",
       "[2, 6]])"
      ],
      "text/latex": "$\\displaystyle \\left[\\begin{matrix}3 & 8\\\\2 & 6\\end{matrix}\\right]$"
     },
     "execution_count": 77,
     "metadata": {},
     "output_type": "execute_result"
    }
   ],
   "execution_count": 77
  },
  {
   "metadata": {
    "ExecuteTime": {
     "end_time": "2025-02-13T17:29:15.274427Z",
     "start_time": "2025-02-13T17:29:15.269580Z"
    }
   },
   "cell_type": "code",
   "source": "sp.Matrix.inv(A)",
   "id": "67205de89fb86ae5",
   "outputs": [
    {
     "data": {
      "text/plain": [
       "Matrix([\n",
       "[ 3,  -4],\n",
       "[-1, 3/2]])"
      ],
      "text/latex": "$\\displaystyle \\left[\\begin{matrix}3 & -4\\\\-1 & \\frac{3}{2}\\end{matrix}\\right]$"
     },
     "execution_count": 78,
     "metadata": {},
     "output_type": "execute_result"
    }
   ],
   "execution_count": 78
  },
  {
   "metadata": {},
   "cell_type": "markdown",
   "source": "__________________________________________________",
   "id": "d35b27811fbb1abf"
  },
  {
   "metadata": {
    "ExecuteTime": {
     "end_time": "2025-02-13T17:29:15.329823Z",
     "start_time": "2025-02-13T17:29:15.325660Z"
    }
   },
   "cell_type": "code",
   "source": "B",
   "id": "a78652dd5a6a39e2",
   "outputs": [
    {
     "data": {
      "text/plain": [
       "Matrix([[3, 8, 1]])"
      ],
      "text/latex": "$\\displaystyle \\left[\\begin{matrix}3 & 8 & 1\\end{matrix}\\right]$"
     },
     "execution_count": 79,
     "metadata": {},
     "output_type": "execute_result"
    }
   ],
   "execution_count": 79
  },
  {
   "metadata": {
    "ExecuteTime": {
     "end_time": "2025-02-13T17:29:15.381428Z",
     "start_time": "2025-02-13T17:29:15.377287Z"
    }
   },
   "cell_type": "code",
   "source": "C",
   "id": "eda79cf2db9bb072",
   "outputs": [
    {
     "data": {
      "text/plain": [
       "Matrix([\n",
       "[ 2],\n",
       "[15]])"
      ],
      "text/latex": "$\\displaystyle \\left[\\begin{matrix}2\\\\15\\end{matrix}\\right]$"
     },
     "execution_count": 80,
     "metadata": {},
     "output_type": "execute_result"
    }
   ],
   "execution_count": 80
  },
  {
   "metadata": {
    "ExecuteTime": {
     "end_time": "2025-02-13T17:29:15.432411Z",
     "start_time": "2025-02-13T17:29:15.427315Z"
    }
   },
   "cell_type": "code",
   "source": "C * B",
   "id": "8b22002ad00a10cf",
   "outputs": [
    {
     "data": {
      "text/plain": [
       "Matrix([\n",
       "[ 6,  16,  2],\n",
       "[45, 120, 15]])"
      ],
      "text/latex": "$\\displaystyle \\left[\\begin{matrix}6 & 16 & 2\\\\45 & 120 & 15\\end{matrix}\\right]$"
     },
     "execution_count": 81,
     "metadata": {},
     "output_type": "execute_result"
    }
   ],
   "execution_count": 81
  },
  {
   "metadata": {
    "ExecuteTime": {
     "end_time": "2025-02-13T17:29:15.496503Z",
     "start_time": "2025-02-13T17:29:15.490484Z"
    }
   },
   "cell_type": "code",
   "source": [
    "S = sp.Matrix([[9, 1]])\n",
    "G = sp.Matrix([[2, 5], [1, 3]])\n",
    "H = sp.Matrix([[2, 5, 8], [1, 3, 7]])\n",
    "H"
   ],
   "id": "5d8ee7bdb6a23bf2",
   "outputs": [
    {
     "data": {
      "text/plain": [
       "Matrix([\n",
       "[2, 5, 8],\n",
       "[1, 3, 7]])"
      ],
      "text/latex": "$\\displaystyle \\left[\\begin{matrix}2 & 5 & 8\\\\1 & 3 & 7\\end{matrix}\\right]$"
     },
     "execution_count": 82,
     "metadata": {},
     "output_type": "execute_result"
    }
   ],
   "execution_count": 82
  },
  {
   "metadata": {
    "ExecuteTime": {
     "end_time": "2025-02-13T17:29:15.551690Z",
     "start_time": "2025-02-13T17:29:15.546683Z"
    }
   },
   "cell_type": "code",
   "source": "(S * G * H).T",
   "id": "c4e526ec9db0064d",
   "outputs": [
    {
     "data": {
      "text/plain": [
       "Matrix([\n",
       "[ 86],\n",
       "[239],\n",
       "[488]])"
      ],
      "text/latex": "$\\displaystyle \\left[\\begin{matrix}86\\\\239\\\\488\\end{matrix}\\right]$"
     },
     "execution_count": 83,
     "metadata": {},
     "output_type": "execute_result"
    }
   ],
   "execution_count": 83
  },
  {
   "metadata": {
    "ExecuteTime": {
     "end_time": "2025-02-13T17:34:43.322160Z",
     "start_time": "2025-02-13T17:34:43.296335Z"
    }
   },
   "cell_type": "code",
   "source": "(S * G * H).T * C * B # Возвращает ошибку, т.к. размерности умножаемых матриц несопоставимы",
   "id": "6729c5924cd69552",
   "outputs": [
    {
     "ename": "ShapeError",
     "evalue": "Matrix size mismatch: (3, 1) * (2, 1).",
     "output_type": "error",
     "traceback": [
      "\u001B[0;31m---------------------------------------------------------------------------\u001B[0m",
      "\u001B[0;31mShapeError\u001B[0m                                Traceback (most recent call last)",
      "Cell \u001B[0;32mIn[84], line 1\u001B[0m\n\u001B[0;32m----> 1\u001B[0m \u001B[43m(\u001B[49m\u001B[43mS\u001B[49m\u001B[43m \u001B[49m\u001B[38;5;241;43m*\u001B[39;49m\u001B[43m \u001B[49m\u001B[43mG\u001B[49m\u001B[43m \u001B[49m\u001B[38;5;241;43m*\u001B[39;49m\u001B[43m \u001B[49m\u001B[43mH\u001B[49m\u001B[43m)\u001B[49m\u001B[38;5;241;43m.\u001B[39;49m\u001B[43mT\u001B[49m\u001B[43m \u001B[49m\u001B[38;5;241;43m*\u001B[39;49m\u001B[43m \u001B[49m\u001B[43mC\u001B[49m \u001B[38;5;241m*\u001B[39m B\n",
      "File \u001B[0;32m~/.cache/pypoetry/virtualenvs/math-skillbox-NM-nLmLh-py3.11/lib/python3.11/site-packages/sympy/core/decorators.py:106\u001B[0m, in \u001B[0;36mcall_highest_priority.<locals>.priority_decorator.<locals>.binary_op_wrapper\u001B[0;34m(self, other)\u001B[0m\n\u001B[1;32m    104\u001B[0m         \u001B[38;5;28;01mif\u001B[39;00m f \u001B[38;5;129;01mis\u001B[39;00m \u001B[38;5;129;01mnot\u001B[39;00m \u001B[38;5;28;01mNone\u001B[39;00m:\n\u001B[1;32m    105\u001B[0m             \u001B[38;5;28;01mreturn\u001B[39;00m f(\u001B[38;5;28mself\u001B[39m)\n\u001B[0;32m--> 106\u001B[0m \u001B[38;5;28;01mreturn\u001B[39;00m \u001B[43mfunc\u001B[49m\u001B[43m(\u001B[49m\u001B[38;5;28;43mself\u001B[39;49m\u001B[43m,\u001B[49m\u001B[43m \u001B[49m\u001B[43mother\u001B[49m\u001B[43m)\u001B[49m\n",
      "File \u001B[0;32m~/.cache/pypoetry/virtualenvs/math-skillbox-NM-nLmLh-py3.11/lib/python3.11/site-packages/sympy/matrices/matrixbase.py:2821\u001B[0m, in \u001B[0;36mMatrixBase.__mul__\u001B[0;34m(self, other)\u001B[0m\n\u001B[1;32m   2792\u001B[0m \u001B[38;5;129m@call_highest_priority\u001B[39m(\u001B[38;5;124m'\u001B[39m\u001B[38;5;124m__rmul__\u001B[39m\u001B[38;5;124m'\u001B[39m)\n\u001B[1;32m   2793\u001B[0m \u001B[38;5;28;01mdef\u001B[39;00m\u001B[38;5;250m \u001B[39m\u001B[38;5;21m__mul__\u001B[39m(\u001B[38;5;28mself\u001B[39m, other):\n\u001B[1;32m   2794\u001B[0m \u001B[38;5;250m    \u001B[39m\u001B[38;5;124;03m\"\"\"Return self*other where other is either a scalar or a matrix\u001B[39;00m\n\u001B[1;32m   2795\u001B[0m \u001B[38;5;124;03m    of compatible dimensions.\u001B[39;00m\n\u001B[1;32m   2796\u001B[0m \n\u001B[0;32m   (...)\u001B[0m\n\u001B[1;32m   2818\u001B[0m \u001B[38;5;124;03m    matrix_multiply_elementwise\u001B[39;00m\n\u001B[1;32m   2819\u001B[0m \u001B[38;5;124;03m    \"\"\"\u001B[39;00m\n\u001B[0;32m-> 2821\u001B[0m     \u001B[38;5;28;01mreturn\u001B[39;00m \u001B[38;5;28;43mself\u001B[39;49m\u001B[38;5;241;43m.\u001B[39;49m\u001B[43mmultiply\u001B[49m\u001B[43m(\u001B[49m\u001B[43mother\u001B[49m\u001B[43m)\u001B[49m\n",
      "File \u001B[0;32m~/.cache/pypoetry/virtualenvs/math-skillbox-NM-nLmLh-py3.11/lib/python3.11/site-packages/sympy/matrices/matrixbase.py:2848\u001B[0m, in \u001B[0;36mMatrixBase.multiply\u001B[0;34m(self, other, dotprodsimp)\u001B[0m\n\u001B[1;32m   2845\u001B[0m \u001B[38;5;28;01melif\u001B[39;00m T \u001B[38;5;241m==\u001B[39m \u001B[38;5;124m\"\u001B[39m\u001B[38;5;124mis_matrix\u001B[39m\u001B[38;5;124m\"\u001B[39m:\n\u001B[1;32m   2847\u001B[0m     \u001B[38;5;28;01mif\u001B[39;00m \u001B[38;5;28mself\u001B[39m\u001B[38;5;241m.\u001B[39mshape[\u001B[38;5;241m1\u001B[39m] \u001B[38;5;241m!=\u001B[39m other\u001B[38;5;241m.\u001B[39mshape[\u001B[38;5;241m0\u001B[39m]:\n\u001B[0;32m-> 2848\u001B[0m         \u001B[38;5;28;01mraise\u001B[39;00m ShapeError(\u001B[38;5;124mf\u001B[39m\u001B[38;5;124m\"\u001B[39m\u001B[38;5;124mMatrix size mismatch: \u001B[39m\u001B[38;5;132;01m{\u001B[39;00m\u001B[38;5;28mself\u001B[39m\u001B[38;5;241m.\u001B[39mshape\u001B[38;5;132;01m}\u001B[39;00m\u001B[38;5;124m * \u001B[39m\u001B[38;5;132;01m{\u001B[39;00mother\u001B[38;5;241m.\u001B[39mshape\u001B[38;5;132;01m}\u001B[39;00m\u001B[38;5;124m.\u001B[39m\u001B[38;5;124m\"\u001B[39m)\n\u001B[1;32m   2850\u001B[0m     m \u001B[38;5;241m=\u001B[39m \u001B[38;5;28mself\u001B[39m\u001B[38;5;241m.\u001B[39m_eval_matrix_mul(other)\n\u001B[1;32m   2852\u001B[0m     \u001B[38;5;28;01mif\u001B[39;00m isimpbool:\n",
      "\u001B[0;31mShapeError\u001B[0m: Matrix size mismatch: (3, 1) * (2, 1)."
     ]
    }
   ],
   "execution_count": 84
  }
 ],
 "metadata": {
  "kernelspec": {
   "display_name": "Python 3",
   "language": "python",
   "name": "python3"
  },
  "language_info": {
   "codemirror_mode": {
    "name": "ipython",
    "version": 2
   },
   "file_extension": ".py",
   "mimetype": "text/x-python",
   "name": "python",
   "nbconvert_exporter": "python",
   "pygments_lexer": "ipython2",
   "version": "2.7.6"
  }
 },
 "nbformat": 4,
 "nbformat_minor": 5
}
