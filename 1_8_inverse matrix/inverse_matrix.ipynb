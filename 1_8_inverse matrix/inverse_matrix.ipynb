{
 "cells": [
  {
   "metadata": {},
   "cell_type": "markdown",
   "source": [
    "Метод вычисления обратной матрицы.\n",
    "* Для квадратной матрицы A, обратной матрицей (обозначается как A-1) называется такая матрица, что при умножении A на A-1 (в любом порядке) получается единичная матрица I\n",
    "* Существует только для квадратных матриц"
   ],
   "id": "6f11d6f6cb22669e"
  },
  {
   "metadata": {
    "ExecuteTime": {
     "end_time": "2025-02-13T16:45:15.712117Z",
     "start_time": "2025-02-13T16:45:15.708453Z"
    }
   },
   "cell_type": "code",
   "source": [
    "import sympy as sp\n",
    "\n",
    "M = sp.Matrix([[3, 5], [5, 9]])\n",
    "N = sp.Matrix([[2, -1, 0], [0, 2, -1], [-1, -1, 0]])"
   ],
   "id": "21ff3af857487ef6",
   "outputs": [],
   "execution_count": 258
  },
  {
   "metadata": {
    "ExecuteTime": {
     "end_time": "2025-02-13T16:45:15.769560Z",
     "start_time": "2025-02-13T16:45:15.763906Z"
    }
   },
   "cell_type": "code",
   "source": "M",
   "id": "a8441c53d4b4df31",
   "outputs": [
    {
     "data": {
      "text/plain": [
       "Matrix([\n",
       "[3, 5],\n",
       "[5, 9]])"
      ],
      "text/latex": "$\\displaystyle \\left[\\begin{matrix}3 & 5\\\\5 & 9\\end{matrix}\\right]$"
     },
     "execution_count": 259,
     "metadata": {},
     "output_type": "execute_result"
    }
   ],
   "execution_count": 259
  },
  {
   "metadata": {
    "ExecuteTime": {
     "end_time": "2025-02-13T16:45:15.820869Z",
     "start_time": "2025-02-13T16:45:15.815534Z"
    }
   },
   "cell_type": "code",
   "source": "N",
   "id": "6125cd9744e9ce56",
   "outputs": [
    {
     "data": {
      "text/plain": [
       "Matrix([\n",
       "[ 2, -1,  0],\n",
       "[ 0,  2, -1],\n",
       "[-1, -1,  0]])"
      ],
      "text/latex": "$\\displaystyle \\left[\\begin{matrix}2 & -1 & 0\\\\0 & 2 & -1\\\\-1 & -1 & 0\\end{matrix}\\right]$"
     },
     "execution_count": 260,
     "metadata": {},
     "output_type": "execute_result"
    }
   ],
   "execution_count": 260
  },
  {
   "metadata": {
    "ExecuteTime": {
     "end_time": "2025-02-13T16:45:15.881775Z",
     "start_time": "2025-02-13T16:45:15.876423Z"
    }
   },
   "cell_type": "code",
   "source": "sp.Matrix.inv(M)",
   "id": "9c3ebb053d019559",
   "outputs": [
    {
     "data": {
      "text/plain": [
       "Matrix([\n",
       "[ 9/2, -5/2],\n",
       "[-5/2,  3/2]])"
      ],
      "text/latex": "$\\displaystyle \\left[\\begin{matrix}\\frac{9}{2} & - \\frac{5}{2}\\\\- \\frac{5}{2} & \\frac{3}{2}\\end{matrix}\\right]$"
     },
     "execution_count": 261,
     "metadata": {},
     "output_type": "execute_result"
    }
   ],
   "execution_count": 261
  },
  {
   "metadata": {
    "ExecuteTime": {
     "end_time": "2025-02-13T16:45:15.940404Z",
     "start_time": "2025-02-13T16:45:15.935254Z"
    }
   },
   "cell_type": "code",
   "source": "sp.Matrix.inv(N)",
   "id": "e3bf2a90bfa0c52e",
   "outputs": [
    {
     "data": {
      "text/plain": [
       "Matrix([\n",
       "[ 1/3,  0, -1/3],\n",
       "[-1/3,  0, -2/3],\n",
       "[-2/3, -1, -4/3]])"
      ],
      "text/latex": "$\\displaystyle \\left[\\begin{matrix}\\frac{1}{3} & 0 & - \\frac{1}{3}\\\\- \\frac{1}{3} & 0 & - \\frac{2}{3}\\\\- \\frac{2}{3} & -1 & - \\frac{4}{3}\\end{matrix}\\right]$"
     },
     "execution_count": 262,
     "metadata": {},
     "output_type": "execute_result"
    }
   ],
   "execution_count": 262
  },
  {
   "metadata": {
    "ExecuteTime": {
     "end_time": "2025-02-13T16:45:15.999521Z",
     "start_time": "2025-02-13T16:45:15.994391Z"
    }
   },
   "cell_type": "code",
   "source": [
    "d = M * sp.Matrix.inv(M) # произведение матрицы на ее обратную => единичная матрица\n",
    "d"
   ],
   "id": "aac81ac07d0c6a1c",
   "outputs": [
    {
     "data": {
      "text/plain": [
       "Matrix([\n",
       "[1, 0],\n",
       "[0, 1]])"
      ],
      "text/latex": "$\\displaystyle \\left[\\begin{matrix}1 & 0\\\\0 & 1\\end{matrix}\\right]$"
     },
     "execution_count": 263,
     "metadata": {},
     "output_type": "execute_result"
    }
   ],
   "execution_count": 263
  },
  {
   "metadata": {
    "ExecuteTime": {
     "end_time": "2025-02-13T16:45:16.049926Z",
     "start_time": "2025-02-13T16:45:16.044465Z"
    }
   },
   "cell_type": "code",
   "source": [
    "z = sp.Matrix.inv(N) * N\n",
    "z"
   ],
   "id": "383fb2efe27d9a71",
   "outputs": [
    {
     "data": {
      "text/plain": [
       "Matrix([\n",
       "[1, 0, 0],\n",
       "[0, 1, 0],\n",
       "[0, 0, 1]])"
      ],
      "text/latex": "$\\displaystyle \\left[\\begin{matrix}1 & 0 & 0\\\\0 & 1 & 0\\\\0 & 0 & 1\\end{matrix}\\right]$"
     },
     "execution_count": 264,
     "metadata": {},
     "output_type": "execute_result"
    }
   ],
   "execution_count": 264
  },
  {
   "metadata": {},
   "cell_type": "markdown",
   "source": [
    "Метод нахождения псевдообратной матрицы (для неквадратных матриц)\n",
    "* Псевдообратная матрица (обозначается как A+) — это обобщение понятия обратной матрицы для прямоугольных или вырожденных квадратных матриц. В отличие от обычной обратной матрицы, псевдообратная матрица существует для любой матрицы."
   ],
   "id": "9660afc0a4f9dacd"
  },
  {
   "metadata": {
    "ExecuteTime": {
     "end_time": "2025-02-13T16:45:16.096844Z",
     "start_time": "2025-02-13T16:45:16.093803Z"
    }
   },
   "cell_type": "code",
   "source": "S = sp.Matrix([3, 4, 0])",
   "id": "dfd2409fae27a2b",
   "outputs": [],
   "execution_count": 265
  },
  {
   "metadata": {
    "ExecuteTime": {
     "end_time": "2025-02-13T16:45:16.155891Z",
     "start_time": "2025-02-13T16:45:16.151823Z"
    }
   },
   "cell_type": "code",
   "source": "S",
   "id": "6d5d8bb7d4cfb4d3",
   "outputs": [
    {
     "data": {
      "text/plain": [
       "Matrix([\n",
       "[3],\n",
       "[4],\n",
       "[0]])"
      ],
      "text/latex": "$\\displaystyle \\left[\\begin{matrix}3\\\\4\\\\0\\end{matrix}\\right]$"
     },
     "execution_count": 266,
     "metadata": {},
     "output_type": "execute_result"
    }
   ],
   "execution_count": 266
  },
  {
   "metadata": {
    "ExecuteTime": {
     "end_time": "2025-02-13T16:45:16.207310Z",
     "start_time": "2025-02-13T16:45:16.203656Z"
    }
   },
   "cell_type": "code",
   "source": "Sp = sp.Matrix.pinv(S) # Псевдообратную матрицу можно найти и для неквадратных матриц",
   "id": "d42c843bb96a7279",
   "outputs": [],
   "execution_count": 267
  },
  {
   "metadata": {
    "ExecuteTime": {
     "end_time": "2025-02-13T16:45:16.257202Z",
     "start_time": "2025-02-13T16:45:16.253049Z"
    }
   },
   "cell_type": "code",
   "source": "Sp",
   "id": "c85b1f2132376025",
   "outputs": [
    {
     "data": {
      "text/plain": [
       "Matrix([[3/25, 4/25, 0]])"
      ],
      "text/latex": "$\\displaystyle \\left[\\begin{matrix}\\frac{3}{25} & \\frac{4}{25} & 0\\end{matrix}\\right]$"
     },
     "execution_count": 268,
     "metadata": {},
     "output_type": "execute_result"
    }
   ],
   "execution_count": 268
  },
  {
   "metadata": {
    "ExecuteTime": {
     "end_time": "2025-02-13T16:45:16.309428Z",
     "start_time": "2025-02-13T16:45:16.304788Z"
    }
   },
   "cell_type": "code",
   "source": "Sp * S == S * Sp",
   "id": "a13fea0384aeee11",
   "outputs": [
    {
     "data": {
      "text/plain": [
       "False"
      ]
     },
     "execution_count": 269,
     "metadata": {},
     "output_type": "execute_result"
    }
   ],
   "execution_count": 269
  },
  {
   "metadata": {
    "ExecuteTime": {
     "end_time": "2025-02-13T16:45:16.358434Z",
     "start_time": "2025-02-13T16:45:16.354191Z"
    }
   },
   "cell_type": "code",
   "source": "Np = sp.Matrix.pinv(N) # псевдообратная матрица для квадратной матрицы равна обратной",
   "id": "810ae14c7299623d",
   "outputs": [],
   "execution_count": 270
  },
  {
   "metadata": {
    "ExecuteTime": {
     "end_time": "2025-02-13T16:45:16.407454Z",
     "start_time": "2025-02-13T16:45:16.402904Z"
    }
   },
   "cell_type": "code",
   "source": "Np",
   "id": "e4d3a86ac79c055c",
   "outputs": [
    {
     "data": {
      "text/plain": [
       "Matrix([\n",
       "[ 1/3,  0, -1/3],\n",
       "[-1/3,  0, -2/3],\n",
       "[-2/3, -1, -4/3]])"
      ],
      "text/latex": "$\\displaystyle \\left[\\begin{matrix}\\frac{1}{3} & 0 & - \\frac{1}{3}\\\\- \\frac{1}{3} & 0 & - \\frac{2}{3}\\\\- \\frac{2}{3} & -1 & - \\frac{4}{3}\\end{matrix}\\right]$"
     },
     "execution_count": 271,
     "metadata": {},
     "output_type": "execute_result"
    }
   ],
   "execution_count": 271
  },
  {
   "metadata": {
    "ExecuteTime": {
     "end_time": "2025-02-13T16:45:16.459304Z",
     "start_time": "2025-02-13T16:45:16.454709Z"
    }
   },
   "cell_type": "code",
   "source": "Sp * S * Sp == Sp # (удовлетворяет условиям Пенроуза A+ A A+ = A+ и A+ A = A A+)",
   "id": "69f3b4f93cd77829",
   "outputs": [
    {
     "data": {
      "text/plain": [
       "True"
      ]
     },
     "execution_count": 272,
     "metadata": {},
     "output_type": "execute_result"
    }
   ],
   "execution_count": 272
  },
  {
   "metadata": {
    "ExecuteTime": {
     "end_time": "2025-02-13T16:45:16.508652Z",
     "start_time": "2025-02-13T16:45:16.504352Z"
    }
   },
   "cell_type": "code",
   "source": "N * Np * N == N",
   "id": "a3faa7d1cb8906f3",
   "outputs": [
    {
     "data": {
      "text/plain": [
       "True"
      ]
     },
     "execution_count": 273,
     "metadata": {},
     "output_type": "execute_result"
    }
   ],
   "execution_count": 273
  },
  {
   "metadata": {
    "ExecuteTime": {
     "end_time": "2025-02-13T16:45:16.566050Z",
     "start_time": "2025-02-13T16:45:16.561610Z"
    }
   },
   "cell_type": "code",
   "source": [
    "z = Np * N\n",
    "z"
   ],
   "id": "6016ca21ba96ae5b",
   "outputs": [
    {
     "data": {
      "text/plain": [
       "Matrix([\n",
       "[1, 0, 0],\n",
       "[0, 1, 0],\n",
       "[0, 0, 1]])"
      ],
      "text/latex": "$\\displaystyle \\left[\\begin{matrix}1 & 0 & 0\\\\0 & 1 & 0\\\\0 & 0 & 1\\end{matrix}\\right]$"
     },
     "execution_count": 274,
     "metadata": {},
     "output_type": "execute_result"
    }
   ],
   "execution_count": 274
  },
  {
   "metadata": {},
   "cell_type": "markdown",
   "source": "",
   "id": "3860d7ecce1ed48d"
  }
 ],
 "metadata": {
  "kernelspec": {
   "display_name": "Python 3",
   "language": "python",
   "name": "python3"
  },
  "language_info": {
   "codemirror_mode": {
    "name": "ipython",
    "version": 2
   },
   "file_extension": ".py",
   "mimetype": "text/x-python",
   "name": "python",
   "nbconvert_exporter": "python",
   "pygments_lexer": "ipython2",
   "version": "2.7.6"
  }
 },
 "nbformat": 4,
 "nbformat_minor": 5
}
